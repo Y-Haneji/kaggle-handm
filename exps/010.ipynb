{
 "cells": [
  {
   "cell_type": "code",
   "execution_count": 1,
   "id": "bb461ed0",
   "metadata": {},
   "outputs": [],
   "source": [
    "# https://www.kaggle.com/code/cdeotte/recommend-items-purchased-together-0-021 をベースに\n",
    "# 変更点\n",
    "# コールドスタートを年齢毎\n",
    "# 1ペアアイテム\n",
    "# New: 4週分の履歴を用いる\n",
    "\n",
    "# MAP@12 (all): 0.026641\n",
    "# MAP@12 (cold start): 0.008750"
   ]
  },
  {
   "cell_type": "code",
   "execution_count": 2,
   "id": "3c40396b",
   "metadata": {},
   "outputs": [],
   "source": [
    "EXP = '010'\n",
    "FOLD = '_fold1' # '_fold0' のように指定、全データ学習時は'' を指定"
   ]
  },
  {
   "cell_type": "markdown",
   "id": "fc4ede0b",
   "metadata": {
    "papermill": {
     "duration": 0.015986,
     "end_time": "2022-02-21T03:22:10.236893",
     "exception": false,
     "start_time": "2022-02-21T03:22:10.220907",
     "status": "completed"
    },
    "tags": []
   },
   "source": [
    "# Recommend Items Frequently Purchased Together\n",
    "This notebook demonstrates how recommending items that are frequently purchased together is effective. The current best scoring public notebook [here][1] recommends to customers those customers' last purchases and scores public LB 0.020. In this notebook here, we will begin with that idea and add recommending items that are frequently purchased together with a customers' previous purchaes. This notebook improves the LB and scores LB 0.021. This notebook's strategy is as follows:\n",
    "* recommend items previously purchased [idea here][1]\n",
    "* recommend items that are bought together with previous purchases [idea here][2]\n",
    "* recommend popular items [idea here][1]\n",
    "\n",
    "[1]: https://www.kaggle.com/hengzheng/time-is-our-best-friend-v2\n",
    "[2]: https://www.kaggle.com/cdeotte/customers-who-bought-this-frequently-buy-this"
   ]
  },
  {
   "cell_type": "code",
   "execution_count": 3,
   "id": "6f358e05",
   "metadata": {
    "execution": {
     "iopub.execute_input": "2022-02-21T03:22:10.300845Z",
     "iopub.status.busy": "2022-02-21T03:22:10.300156Z",
     "iopub.status.idle": "2022-02-21T03:22:13.781265Z",
     "shell.execute_reply": "2022-02-21T03:22:13.780468Z",
     "shell.execute_reply.started": "2022-02-20T02:54:42.216493Z"
    },
    "papermill": {
     "duration": 3.503013,
     "end_time": "2022-02-21T03:22:13.781431",
     "exception": false,
     "start_time": "2022-02-21T03:22:10.278418",
     "status": "completed"
    },
    "tags": []
   },
   "outputs": [],
   "source": [
    "import pandas as pd\n",
    "import numpy as np"
   ]
  },
  {
   "cell_type": "markdown",
   "id": "66df6c2d",
   "metadata": {
    "papermill": {
     "duration": 0.01429,
     "end_time": "2022-02-21T03:22:53.481166",
     "exception": false,
     "start_time": "2022-02-21T03:22:53.466876",
     "status": "completed"
    },
    "tags": []
   },
   "source": [
    "# Find Each Customer's Last Week of Purchases\n",
    "Our final predictions will have the row order from of our dataframe. Each row of our dataframe will be a prediction. We will create the `predictionstring` later by `train.groupby('customer_id').article_id.sum()`. Since `article_id` is a string, when we groupby sum, it will concatenate all the customer predictions into a single string. It will also create the string in the order of the dataframe. So as we proceed in this notebook, we will order the dataframe how we want our predictions ordered."
   ]
  },
  {
   "cell_type": "code",
   "execution_count": 4,
   "id": "f0ed058d",
   "metadata": {
    "execution": {
     "iopub.execute_input": "2022-02-21T03:22:53.516505Z",
     "iopub.status.busy": "2022-02-21T03:22:53.515834Z",
     "iopub.status.idle": "2022-02-21T03:22:53.694123Z",
     "shell.execute_reply": "2022-02-21T03:22:53.694511Z",
     "shell.execute_reply.started": "2022-02-20T02:55:25.311925Z"
    },
    "papermill": {
     "duration": 0.199411,
     "end_time": "2022-02-21T03:22:53.694658",
     "exception": false,
     "start_time": "2022-02-21T03:22:53.495247",
     "status": "completed"
    },
    "tags": []
   },
   "outputs": [
    {
     "name": "stdout",
     "output_type": "stream",
     "text": [
      "Train1 shape: (5184732, 5) Train2 shape: (5614738, 5) Train3 shape: (5972932, 5) Train4 shape: (6317958, 5)\n"
     ]
    }
   ],
   "source": [
    "train = pd.read_parquet(f'train{FOLD}.pqt')\n",
    "\n",
    "tmp = train.groupby('customer_id').t_dat.max().reset_index()\n",
    "tmp.columns = ['customer_id','max_dat']\n",
    "train = train.merge(tmp,on=['customer_id'],how='left')\n",
    "train['diff_dat'] = (train.max_dat - train.t_dat).dt.days\n",
    "train4 = train.loc[train['diff_dat']<28].copy()\n",
    "train3 = train4.loc[train4['diff_dat']<21].copy()\n",
    "train2 = train3.loc[train3['diff_dat']<14].copy()\n",
    "train1 = train2.loc[train2['diff_dat']<7].copy()\n",
    "print('Train1 shape:',train1.shape, 'Train2 shape:',train2.shape, 'Train3 shape:',train3.shape, 'Train4 shape:',train4.shape)"
   ]
  },
  {
   "cell_type": "code",
   "execution_count": 5,
   "id": "1e26606b",
   "metadata": {
    "execution": {
     "iopub.execute_input": "2022-02-21T03:22:53.762836Z",
     "iopub.status.busy": "2022-02-21T03:22:53.762058Z",
     "iopub.status.idle": "2022-02-21T03:22:54.031596Z",
     "shell.execute_reply": "2022-02-21T03:22:54.031995Z",
     "shell.execute_reply.started": "2022-02-20T02:55:25.498521Z"
    },
    "papermill": {
     "duration": 0.291279,
     "end_time": "2022-02-21T03:22:54.032142",
     "exception": false,
     "start_time": "2022-02-21T03:22:53.740863",
     "status": "completed"
    },
    "tags": []
   },
   "outputs": [
    {
     "data": {
      "text/html": [
       "<div>\n",
       "<style scoped>\n",
       "    .dataframe tbody tr th:only-of-type {\n",
       "        vertical-align: middle;\n",
       "    }\n",
       "\n",
       "    .dataframe tbody tr th {\n",
       "        vertical-align: top;\n",
       "    }\n",
       "\n",
       "    .dataframe thead th {\n",
       "        text-align: right;\n",
       "    }\n",
       "</style>\n",
       "<table border=\"1\" class=\"dataframe\">\n",
       "  <thead>\n",
       "    <tr style=\"text-align: right;\">\n",
       "      <th></th>\n",
       "      <th>t_dat</th>\n",
       "      <th>customer_id</th>\n",
       "      <th>article_id</th>\n",
       "      <th>max_dat</th>\n",
       "      <th>diff_dat</th>\n",
       "      <th>ct</th>\n",
       "    </tr>\n",
       "  </thead>\n",
       "  <tbody>\n",
       "    <tr>\n",
       "      <th>1164094</th>\n",
       "      <td>2019-07-16</td>\n",
       "      <td>2729025827381139556</td>\n",
       "      <td>719348003</td>\n",
       "      <td>2019-07-16</td>\n",
       "      <td>0</td>\n",
       "      <td>100</td>\n",
       "    </tr>\n",
       "    <tr>\n",
       "      <th>80390</th>\n",
       "      <td>2018-10-04</td>\n",
       "      <td>4485518665254175540</td>\n",
       "      <td>557247001</td>\n",
       "      <td>2018-10-04</td>\n",
       "      <td>0</td>\n",
       "      <td>86</td>\n",
       "    </tr>\n",
       "    <tr>\n",
       "      <th>2171280</th>\n",
       "      <td>2020-03-06</td>\n",
       "      <td>-906958334866810496</td>\n",
       "      <td>852521001</td>\n",
       "      <td>2020-03-06</td>\n",
       "      <td>0</td>\n",
       "      <td>81</td>\n",
       "    </tr>\n",
       "  </tbody>\n",
       "</table>\n",
       "</div>"
      ],
      "text/plain": [
       "             t_dat          customer_id  article_id    max_dat  diff_dat   ct\n",
       "1164094 2019-07-16  2729025827381139556   719348003 2019-07-16         0  100\n",
       "80390   2018-10-04  4485518665254175540   557247001 2018-10-04         0   86\n",
       "2171280 2020-03-06  -906958334866810496   852521001 2020-03-06         0   81"
      ]
     },
     "execution_count": 5,
     "metadata": {},
     "output_type": "execute_result"
    }
   ],
   "source": [
    "# (1) Recommend Most Often Previously Purchased Items\n",
    "\n",
    "tmp = train1.groupby(['customer_id','article_id'])['t_dat'].agg('count').reset_index()\n",
    "tmp.columns = ['customer_id','article_id','ct']\n",
    "train1 = train1.merge(tmp,on=['customer_id','article_id'],how='left')\n",
    "train1 = train1.sort_values(['ct','t_dat'],ascending=False)\n",
    "train1 = train1.drop_duplicates(['customer_id','article_id'])\n",
    "train1 = train1.sort_values(['ct','t_dat'],ascending=False)\n",
    "# train1['weight'] = train1.groupby('customer_id')['ct'].rank('dense')\n",
    "# train1['weight'] = train1['ct']\n",
    "train1.head(3)"
   ]
  },
  {
   "cell_type": "code",
   "execution_count": 6,
   "id": "522ea238",
   "metadata": {
    "execution": {
     "iopub.execute_input": "2022-02-21T03:22:54.098631Z",
     "iopub.status.busy": "2022-02-21T03:22:54.097548Z",
     "iopub.status.idle": "2022-02-21T03:22:54.631455Z",
     "shell.execute_reply": "2022-02-21T03:22:54.630480Z",
     "shell.execute_reply.started": "2022-02-20T02:55:25.77994Z"
    },
    "papermill": {
     "duration": 0.553924,
     "end_time": "2022-02-21T03:22:54.631595",
     "exception": false,
     "start_time": "2022-02-21T03:22:54.077671",
     "status": "completed"
    },
    "tags": []
   },
   "outputs": [
    {
     "data": {
      "text/html": [
       "<div>\n",
       "<style scoped>\n",
       "    .dataframe tbody tr th:only-of-type {\n",
       "        vertical-align: middle;\n",
       "    }\n",
       "\n",
       "    .dataframe tbody tr th {\n",
       "        vertical-align: top;\n",
       "    }\n",
       "\n",
       "    .dataframe thead th {\n",
       "        text-align: right;\n",
       "    }\n",
       "</style>\n",
       "<table border=\"1\" class=\"dataframe\">\n",
       "  <thead>\n",
       "    <tr style=\"text-align: right;\">\n",
       "      <th></th>\n",
       "      <th>t_dat</th>\n",
       "      <th>customer_id</th>\n",
       "      <th>article_id</th>\n",
       "      <th>max_dat</th>\n",
       "      <th>diff_dat</th>\n",
       "      <th>ct</th>\n",
       "      <th>article_id2</th>\n",
       "    </tr>\n",
       "  </thead>\n",
       "  <tbody>\n",
       "    <tr>\n",
       "      <th>1164094</th>\n",
       "      <td>2019-07-16</td>\n",
       "      <td>2729025827381139556</td>\n",
       "      <td>719348003</td>\n",
       "      <td>2019-07-16</td>\n",
       "      <td>0</td>\n",
       "      <td>100</td>\n",
       "      <td>719348001.0</td>\n",
       "    </tr>\n",
       "    <tr>\n",
       "      <th>80390</th>\n",
       "      <td>2018-10-04</td>\n",
       "      <td>4485518665254175540</td>\n",
       "      <td>557247001</td>\n",
       "      <td>2018-10-04</td>\n",
       "      <td>0</td>\n",
       "      <td>86</td>\n",
       "      <td>557247003.0</td>\n",
       "    </tr>\n",
       "    <tr>\n",
       "      <th>2171280</th>\n",
       "      <td>2020-03-06</td>\n",
       "      <td>-906958334866810496</td>\n",
       "      <td>852521001</td>\n",
       "      <td>2020-03-06</td>\n",
       "      <td>0</td>\n",
       "      <td>81</td>\n",
       "      <td>610776002.0</td>\n",
       "    </tr>\n",
       "  </tbody>\n",
       "</table>\n",
       "</div>"
      ],
      "text/plain": [
       "             t_dat          customer_id  article_id    max_dat  diff_dat   ct  \\\n",
       "1164094 2019-07-16  2729025827381139556   719348003 2019-07-16         0  100   \n",
       "80390   2018-10-04  4485518665254175540   557247001 2018-10-04         0   86   \n",
       "2171280 2020-03-06  -906958334866810496   852521001 2020-03-06         0   81   \n",
       "\n",
       "         article_id2  \n",
       "1164094  719348001.0  \n",
       "80390    557247003.0  \n",
       "2171280  610776002.0  "
      ]
     },
     "execution_count": 6,
     "metadata": {},
     "output_type": "execute_result"
    }
   ],
   "source": [
    "# (2) Recommend Items Purchased Together\n",
    "\n",
    "# for 1 item\n",
    "pairs = np.load(f'../input/hmitempairs/pairs_cudf{FOLD}_1item.npy',allow_pickle=True).item()\n",
    "train1['article_id2'] = train1.article_id.map(pairs)\n",
    "\n",
    "# # for 5 items\n",
    "# pairs = pd.read_csv(f'../input/hmitempairs/pairs_df{FOLD}_5items.csv', index_col=0)\n",
    "# pairs_ls = []\n",
    "# for index, row in pairs.iterrows():\n",
    "#     for i, value in enumerate(row):\n",
    "#         pairs_ls.append((index, value, i))\n",
    "# pairs_df = pd.DataFrame(pairs_ls, columns=['article_id', 'article_id2', 'pair_rank'])\n",
    "# train1 = train1.merge(pairs_df, how='left', on='article_id')\n",
    "# train1 = train1.dropna(axis=0)\n",
    "# train1[['article_id2', 'pair_rank']] = train1[['article_id2', 'pair_rank']].astype(int)\n",
    "\n",
    "train1.head(3)"
   ]
  },
  {
   "cell_type": "code",
   "execution_count": 7,
   "id": "6a131c54",
   "metadata": {
    "execution": {
     "iopub.execute_input": "2022-02-21T03:22:54.700415Z",
     "iopub.status.busy": "2022-02-21T03:22:54.699166Z",
     "iopub.status.idle": "2022-02-21T03:22:56.039765Z",
     "shell.execute_reply": "2022-02-21T03:22:56.040864Z",
     "shell.execute_reply.started": "2022-02-20T02:55:26.337365Z"
    },
    "papermill": {
     "duration": 1.393878,
     "end_time": "2022-02-21T03:22:56.041115",
     "exception": false,
     "start_time": "2022-02-21T03:22:54.647237",
     "status": "completed"
    },
    "tags": []
   },
   "outputs": [],
   "source": [
    "# RECOMMENDATION OF PAIRED ITEMS\n",
    "train1_pair = train1[['customer_id','article_id2']].copy()\n",
    "train1_pair = train1_pair.loc[train1_pair.article_id2.notnull()]\n",
    "train1_pair = train1_pair.drop_duplicates(['customer_id','article_id2'])\n",
    "train1_pair = train1_pair.rename({'article_id2':'article_id'},axis=1)"
   ]
  },
  {
   "cell_type": "code",
   "execution_count": 8,
   "id": "1e26606b",
   "metadata": {
    "execution": {
     "iopub.execute_input": "2022-02-21T03:22:53.762836Z",
     "iopub.status.busy": "2022-02-21T03:22:53.762058Z",
     "iopub.status.idle": "2022-02-21T03:22:54.031596Z",
     "shell.execute_reply": "2022-02-21T03:22:54.031995Z",
     "shell.execute_reply.started": "2022-02-20T02:55:25.498521Z"
    },
    "papermill": {
     "duration": 0.291279,
     "end_time": "2022-02-21T03:22:54.032142",
     "exception": false,
     "start_time": "2022-02-21T03:22:53.740863",
     "status": "completed"
    },
    "tags": []
   },
   "outputs": [
    {
     "data": {
      "text/html": [
       "<div>\n",
       "<style scoped>\n",
       "    .dataframe tbody tr th:only-of-type {\n",
       "        vertical-align: middle;\n",
       "    }\n",
       "\n",
       "    .dataframe tbody tr th {\n",
       "        vertical-align: top;\n",
       "    }\n",
       "\n",
       "    .dataframe thead th {\n",
       "        text-align: right;\n",
       "    }\n",
       "</style>\n",
       "<table border=\"1\" class=\"dataframe\">\n",
       "  <thead>\n",
       "    <tr style=\"text-align: right;\">\n",
       "      <th></th>\n",
       "      <th>t_dat</th>\n",
       "      <th>customer_id</th>\n",
       "      <th>article_id</th>\n",
       "      <th>max_dat</th>\n",
       "      <th>diff_dat</th>\n",
       "      <th>ct</th>\n",
       "    </tr>\n",
       "  </thead>\n",
       "  <tbody>\n",
       "    <tr>\n",
       "      <th>1219771</th>\n",
       "      <td>2019-07-16</td>\n",
       "      <td>2729025827381139556</td>\n",
       "      <td>719348003</td>\n",
       "      <td>2019-07-16</td>\n",
       "      <td>0</td>\n",
       "      <td>100</td>\n",
       "    </tr>\n",
       "    <tr>\n",
       "      <th>83376</th>\n",
       "      <td>2018-10-04</td>\n",
       "      <td>4485518665254175540</td>\n",
       "      <td>557247001</td>\n",
       "      <td>2018-10-04</td>\n",
       "      <td>0</td>\n",
       "      <td>86</td>\n",
       "    </tr>\n",
       "    <tr>\n",
       "      <th>2282621</th>\n",
       "      <td>2020-03-06</td>\n",
       "      <td>-906958334866810496</td>\n",
       "      <td>852521001</td>\n",
       "      <td>2020-03-06</td>\n",
       "      <td>0</td>\n",
       "      <td>81</td>\n",
       "    </tr>\n",
       "  </tbody>\n",
       "</table>\n",
       "</div>"
      ],
      "text/plain": [
       "             t_dat          customer_id  article_id    max_dat  diff_dat   ct\n",
       "1219771 2019-07-16  2729025827381139556   719348003 2019-07-16         0  100\n",
       "83376   2018-10-04  4485518665254175540   557247001 2018-10-04         0   86\n",
       "2282621 2020-03-06  -906958334866810496   852521001 2020-03-06         0   81"
      ]
     },
     "execution_count": 8,
     "metadata": {},
     "output_type": "execute_result"
    }
   ],
   "source": [
    "# (1) Recommend Most Often Previously Purchased Items\n",
    "\n",
    "tmp = train2.groupby(['customer_id','article_id'])['t_dat'].agg('count').reset_index()\n",
    "tmp.columns = ['customer_id','article_id','ct']\n",
    "train2 = train2.merge(tmp,on=['customer_id','article_id'],how='left')\n",
    "train2 = train2.sort_values(['ct','t_dat'],ascending=False)\n",
    "train2 = train2.drop_duplicates(['customer_id','article_id'])\n",
    "train2 = train2.sort_values(['ct','t_dat'],ascending=False)\n",
    "# train2['weight'] = train2.groupby('customer_id')['ct'].rank('dense')\n",
    "# train2['weight'] = train2['ct']\n",
    "train2.head(3)"
   ]
  },
  {
   "cell_type": "code",
   "execution_count": 9,
   "id": "522ea238",
   "metadata": {
    "execution": {
     "iopub.execute_input": "2022-02-21T03:22:54.098631Z",
     "iopub.status.busy": "2022-02-21T03:22:54.097548Z",
     "iopub.status.idle": "2022-02-21T03:22:54.631455Z",
     "shell.execute_reply": "2022-02-21T03:22:54.630480Z",
     "shell.execute_reply.started": "2022-02-20T02:55:25.77994Z"
    },
    "papermill": {
     "duration": 0.553924,
     "end_time": "2022-02-21T03:22:54.631595",
     "exception": false,
     "start_time": "2022-02-21T03:22:54.077671",
     "status": "completed"
    },
    "tags": []
   },
   "outputs": [
    {
     "data": {
      "text/html": [
       "<div>\n",
       "<style scoped>\n",
       "    .dataframe tbody tr th:only-of-type {\n",
       "        vertical-align: middle;\n",
       "    }\n",
       "\n",
       "    .dataframe tbody tr th {\n",
       "        vertical-align: top;\n",
       "    }\n",
       "\n",
       "    .dataframe thead th {\n",
       "        text-align: right;\n",
       "    }\n",
       "</style>\n",
       "<table border=\"1\" class=\"dataframe\">\n",
       "  <thead>\n",
       "    <tr style=\"text-align: right;\">\n",
       "      <th></th>\n",
       "      <th>t_dat</th>\n",
       "      <th>customer_id</th>\n",
       "      <th>article_id</th>\n",
       "      <th>max_dat</th>\n",
       "      <th>diff_dat</th>\n",
       "      <th>ct</th>\n",
       "      <th>article_id2</th>\n",
       "    </tr>\n",
       "  </thead>\n",
       "  <tbody>\n",
       "    <tr>\n",
       "      <th>1219771</th>\n",
       "      <td>2019-07-16</td>\n",
       "      <td>2729025827381139556</td>\n",
       "      <td>719348003</td>\n",
       "      <td>2019-07-16</td>\n",
       "      <td>0</td>\n",
       "      <td>100</td>\n",
       "      <td>719348001.0</td>\n",
       "    </tr>\n",
       "    <tr>\n",
       "      <th>83376</th>\n",
       "      <td>2018-10-04</td>\n",
       "      <td>4485518665254175540</td>\n",
       "      <td>557247001</td>\n",
       "      <td>2018-10-04</td>\n",
       "      <td>0</td>\n",
       "      <td>86</td>\n",
       "      <td>557247003.0</td>\n",
       "    </tr>\n",
       "    <tr>\n",
       "      <th>2282621</th>\n",
       "      <td>2020-03-06</td>\n",
       "      <td>-906958334866810496</td>\n",
       "      <td>852521001</td>\n",
       "      <td>2020-03-06</td>\n",
       "      <td>0</td>\n",
       "      <td>81</td>\n",
       "      <td>610776002.0</td>\n",
       "    </tr>\n",
       "  </tbody>\n",
       "</table>\n",
       "</div>"
      ],
      "text/plain": [
       "             t_dat          customer_id  article_id    max_dat  diff_dat   ct  \\\n",
       "1219771 2019-07-16  2729025827381139556   719348003 2019-07-16         0  100   \n",
       "83376   2018-10-04  4485518665254175540   557247001 2018-10-04         0   86   \n",
       "2282621 2020-03-06  -906958334866810496   852521001 2020-03-06         0   81   \n",
       "\n",
       "         article_id2  \n",
       "1219771  719348001.0  \n",
       "83376    557247003.0  \n",
       "2282621  610776002.0  "
      ]
     },
     "execution_count": 9,
     "metadata": {},
     "output_type": "execute_result"
    }
   ],
   "source": [
    "# (2) Recommend Items Purchased Together\n",
    "\n",
    "# for 1 item\n",
    "pairs = np.load(f'../input/hmitempairs/pairs_cudf{FOLD}_1item.npy',allow_pickle=True).item()\n",
    "train2['article_id2'] = train2.article_id.map(pairs)\n",
    "\n",
    "# # for 5 items\n",
    "# pairs = pd.read_csv(f'../input/hmitempairs/pairs_df{FOLD}_5items.csv', index_col=0)\n",
    "# pairs_ls = []\n",
    "# for index, row in pairs.iterrows():\n",
    "#     for i, value in enumerate(row):\n",
    "#         pairs_ls.append((index, value, i))\n",
    "# pairs_df = pd.DataFrame(pairs_ls, columns=['article_id', 'article_id2', 'pair_rank'])\n",
    "# train2 = train2.merge(pairs_df, how='left', on='article_id')\n",
    "# train2 = train2.dropna(axis=0)\n",
    "# train2[['article_id2', 'pair_rank']] = train2[['article_id2', 'pair_rank']].astype(int)\n",
    "\n",
    "train2.head(3)"
   ]
  },
  {
   "cell_type": "code",
   "execution_count": 10,
   "id": "6a131c54",
   "metadata": {
    "execution": {
     "iopub.execute_input": "2022-02-21T03:22:54.700415Z",
     "iopub.status.busy": "2022-02-21T03:22:54.699166Z",
     "iopub.status.idle": "2022-02-21T03:22:56.039765Z",
     "shell.execute_reply": "2022-02-21T03:22:56.040864Z",
     "shell.execute_reply.started": "2022-02-20T02:55:26.337365Z"
    },
    "papermill": {
     "duration": 1.393878,
     "end_time": "2022-02-21T03:22:56.041115",
     "exception": false,
     "start_time": "2022-02-21T03:22:54.647237",
     "status": "completed"
    },
    "tags": []
   },
   "outputs": [],
   "source": [
    "# RECOMMENDATION OF PAIRED ITEMS\n",
    "train2_pair = train2[['customer_id','article_id2']].copy()\n",
    "train2_pair = train2_pair.loc[train2_pair.article_id2.notnull()]\n",
    "train2_pair = train2_pair.drop_duplicates(['customer_id','article_id2'])\n",
    "train2_pair = train2_pair.rename({'article_id2':'article_id'},axis=1)"
   ]
  },
  {
   "cell_type": "code",
   "execution_count": 11,
   "id": "1e26606b",
   "metadata": {
    "execution": {
     "iopub.execute_input": "2022-02-21T03:22:53.762836Z",
     "iopub.status.busy": "2022-02-21T03:22:53.762058Z",
     "iopub.status.idle": "2022-02-21T03:22:54.031596Z",
     "shell.execute_reply": "2022-02-21T03:22:54.031995Z",
     "shell.execute_reply.started": "2022-02-20T02:55:25.498521Z"
    },
    "papermill": {
     "duration": 0.291279,
     "end_time": "2022-02-21T03:22:54.032142",
     "exception": false,
     "start_time": "2022-02-21T03:22:53.740863",
     "status": "completed"
    },
    "tags": []
   },
   "outputs": [
    {
     "data": {
      "text/html": [
       "<div>\n",
       "<style scoped>\n",
       "    .dataframe tbody tr th:only-of-type {\n",
       "        vertical-align: middle;\n",
       "    }\n",
       "\n",
       "    .dataframe tbody tr th {\n",
       "        vertical-align: top;\n",
       "    }\n",
       "\n",
       "    .dataframe thead th {\n",
       "        text-align: right;\n",
       "    }\n",
       "</style>\n",
       "<table border=\"1\" class=\"dataframe\">\n",
       "  <thead>\n",
       "    <tr style=\"text-align: right;\">\n",
       "      <th></th>\n",
       "      <th>t_dat</th>\n",
       "      <th>customer_id</th>\n",
       "      <th>article_id</th>\n",
       "      <th>max_dat</th>\n",
       "      <th>diff_dat</th>\n",
       "      <th>ct</th>\n",
       "    </tr>\n",
       "  </thead>\n",
       "  <tbody>\n",
       "    <tr>\n",
       "      <th>1260447</th>\n",
       "      <td>2019-07-16</td>\n",
       "      <td>2729025827381139556</td>\n",
       "      <td>719348003</td>\n",
       "      <td>2019-07-16</td>\n",
       "      <td>0</td>\n",
       "      <td>100</td>\n",
       "    </tr>\n",
       "    <tr>\n",
       "      <th>85514</th>\n",
       "      <td>2018-10-04</td>\n",
       "      <td>4485518665254175540</td>\n",
       "      <td>557247001</td>\n",
       "      <td>2018-10-04</td>\n",
       "      <td>0</td>\n",
       "      <td>86</td>\n",
       "    </tr>\n",
       "    <tr>\n",
       "      <th>2364813</th>\n",
       "      <td>2020-03-06</td>\n",
       "      <td>-906958334866810496</td>\n",
       "      <td>852521001</td>\n",
       "      <td>2020-03-06</td>\n",
       "      <td>0</td>\n",
       "      <td>81</td>\n",
       "    </tr>\n",
       "  </tbody>\n",
       "</table>\n",
       "</div>"
      ],
      "text/plain": [
       "             t_dat          customer_id  article_id    max_dat  diff_dat   ct\n",
       "1260447 2019-07-16  2729025827381139556   719348003 2019-07-16         0  100\n",
       "85514   2018-10-04  4485518665254175540   557247001 2018-10-04         0   86\n",
       "2364813 2020-03-06  -906958334866810496   852521001 2020-03-06         0   81"
      ]
     },
     "execution_count": 11,
     "metadata": {},
     "output_type": "execute_result"
    }
   ],
   "source": [
    "# (1) Recommend Most Often Previously Purchased Items\n",
    "\n",
    "tmp = train3.groupby(['customer_id','article_id'])['t_dat'].agg('count').reset_index()\n",
    "tmp.columns = ['customer_id','article_id','ct']\n",
    "train3 = train3.merge(tmp,on=['customer_id','article_id'],how='left')\n",
    "train3 = train3.sort_values(['ct','t_dat'],ascending=False)\n",
    "train3 = train3.drop_duplicates(['customer_id','article_id'])\n",
    "train3 = train3.sort_values(['ct','t_dat'],ascending=False)\n",
    "# train3['weight'] = train3.groupby('customer_id')['ct'].rank('dense')\n",
    "# train3['weight'] = train3['ct']\n",
    "train3.head(3)"
   ]
  },
  {
   "cell_type": "code",
   "execution_count": 12,
   "id": "522ea238",
   "metadata": {
    "execution": {
     "iopub.execute_input": "2022-02-21T03:22:54.098631Z",
     "iopub.status.busy": "2022-02-21T03:22:54.097548Z",
     "iopub.status.idle": "2022-02-21T03:22:54.631455Z",
     "shell.execute_reply": "2022-02-21T03:22:54.630480Z",
     "shell.execute_reply.started": "2022-02-20T02:55:25.77994Z"
    },
    "papermill": {
     "duration": 0.553924,
     "end_time": "2022-02-21T03:22:54.631595",
     "exception": false,
     "start_time": "2022-02-21T03:22:54.077671",
     "status": "completed"
    },
    "tags": []
   },
   "outputs": [
    {
     "data": {
      "text/html": [
       "<div>\n",
       "<style scoped>\n",
       "    .dataframe tbody tr th:only-of-type {\n",
       "        vertical-align: middle;\n",
       "    }\n",
       "\n",
       "    .dataframe tbody tr th {\n",
       "        vertical-align: top;\n",
       "    }\n",
       "\n",
       "    .dataframe thead th {\n",
       "        text-align: right;\n",
       "    }\n",
       "</style>\n",
       "<table border=\"1\" class=\"dataframe\">\n",
       "  <thead>\n",
       "    <tr style=\"text-align: right;\">\n",
       "      <th></th>\n",
       "      <th>t_dat</th>\n",
       "      <th>customer_id</th>\n",
       "      <th>article_id</th>\n",
       "      <th>max_dat</th>\n",
       "      <th>diff_dat</th>\n",
       "      <th>ct</th>\n",
       "      <th>article_id2</th>\n",
       "    </tr>\n",
       "  </thead>\n",
       "  <tbody>\n",
       "    <tr>\n",
       "      <th>1260447</th>\n",
       "      <td>2019-07-16</td>\n",
       "      <td>2729025827381139556</td>\n",
       "      <td>719348003</td>\n",
       "      <td>2019-07-16</td>\n",
       "      <td>0</td>\n",
       "      <td>100</td>\n",
       "      <td>719348001.0</td>\n",
       "    </tr>\n",
       "    <tr>\n",
       "      <th>85514</th>\n",
       "      <td>2018-10-04</td>\n",
       "      <td>4485518665254175540</td>\n",
       "      <td>557247001</td>\n",
       "      <td>2018-10-04</td>\n",
       "      <td>0</td>\n",
       "      <td>86</td>\n",
       "      <td>557247003.0</td>\n",
       "    </tr>\n",
       "    <tr>\n",
       "      <th>2364813</th>\n",
       "      <td>2020-03-06</td>\n",
       "      <td>-906958334866810496</td>\n",
       "      <td>852521001</td>\n",
       "      <td>2020-03-06</td>\n",
       "      <td>0</td>\n",
       "      <td>81</td>\n",
       "      <td>610776002.0</td>\n",
       "    </tr>\n",
       "  </tbody>\n",
       "</table>\n",
       "</div>"
      ],
      "text/plain": [
       "             t_dat          customer_id  article_id    max_dat  diff_dat   ct  \\\n",
       "1260447 2019-07-16  2729025827381139556   719348003 2019-07-16         0  100   \n",
       "85514   2018-10-04  4485518665254175540   557247001 2018-10-04         0   86   \n",
       "2364813 2020-03-06  -906958334866810496   852521001 2020-03-06         0   81   \n",
       "\n",
       "         article_id2  \n",
       "1260447  719348001.0  \n",
       "85514    557247003.0  \n",
       "2364813  610776002.0  "
      ]
     },
     "execution_count": 12,
     "metadata": {},
     "output_type": "execute_result"
    }
   ],
   "source": [
    "# (2) Recommend Items Purchased Together\n",
    "\n",
    "# for 1 item\n",
    "pairs = np.load(f'../input/hmitempairs/pairs_cudf{FOLD}_1item.npy',allow_pickle=True).item()\n",
    "train3['article_id2'] = train3.article_id.map(pairs)\n",
    "\n",
    "# # for 5 items\n",
    "# pairs = pd.read_csv(f'../input/hmitempairs/pairs_df{FOLD}_5items.csv', index_col=0)\n",
    "# pairs_ls = []\n",
    "# for index, row in pairs.iterrows():\n",
    "#     for i, value in enumerate(row):\n",
    "#         pairs_ls.append((index, value, i))\n",
    "# pairs_df = pd.DataFrame(pairs_ls, columns=['article_id', 'article_id2', 'pair_rank'])\n",
    "# train3 = train3.merge(pairs_df, how='left', on='article_id')\n",
    "# train3 = train3.dropna(axis=0)\n",
    "# train3[['article_id2', 'pair_rank']] = train3[['article_id2', 'pair_rank']].astype(int)\n",
    "\n",
    "train3.head(3)"
   ]
  },
  {
   "cell_type": "code",
   "execution_count": 13,
   "id": "6a131c54",
   "metadata": {
    "execution": {
     "iopub.execute_input": "2022-02-21T03:22:54.700415Z",
     "iopub.status.busy": "2022-02-21T03:22:54.699166Z",
     "iopub.status.idle": "2022-02-21T03:22:56.039765Z",
     "shell.execute_reply": "2022-02-21T03:22:56.040864Z",
     "shell.execute_reply.started": "2022-02-20T02:55:26.337365Z"
    },
    "papermill": {
     "duration": 1.393878,
     "end_time": "2022-02-21T03:22:56.041115",
     "exception": false,
     "start_time": "2022-02-21T03:22:54.647237",
     "status": "completed"
    },
    "tags": []
   },
   "outputs": [],
   "source": [
    "# RECOMMENDATION OF PAIRED ITEMS\n",
    "train3_pair = train3[['customer_id','article_id2']].copy()\n",
    "train3_pair = train3_pair.loc[train3_pair.article_id2.notnull()]\n",
    "train3_pair = train3_pair.drop_duplicates(['customer_id','article_id2'])\n",
    "train3_pair = train3_pair.rename({'article_id2':'article_id'},axis=1)"
   ]
  },
  {
   "cell_type": "code",
   "execution_count": 14,
   "id": "1e26606b",
   "metadata": {
    "execution": {
     "iopub.execute_input": "2022-02-21T03:22:53.762836Z",
     "iopub.status.busy": "2022-02-21T03:22:53.762058Z",
     "iopub.status.idle": "2022-02-21T03:22:54.031596Z",
     "shell.execute_reply": "2022-02-21T03:22:54.031995Z",
     "shell.execute_reply.started": "2022-02-20T02:55:25.498521Z"
    },
    "papermill": {
     "duration": 0.291279,
     "end_time": "2022-02-21T03:22:54.032142",
     "exception": false,
     "start_time": "2022-02-21T03:22:53.740863",
     "status": "completed"
    },
    "tags": []
   },
   "outputs": [
    {
     "data": {
      "text/html": [
       "<div>\n",
       "<style scoped>\n",
       "    .dataframe tbody tr th:only-of-type {\n",
       "        vertical-align: middle;\n",
       "    }\n",
       "\n",
       "    .dataframe tbody tr th {\n",
       "        vertical-align: top;\n",
       "    }\n",
       "\n",
       "    .dataframe thead th {\n",
       "        text-align: right;\n",
       "    }\n",
       "</style>\n",
       "<table border=\"1\" class=\"dataframe\">\n",
       "  <thead>\n",
       "    <tr style=\"text-align: right;\">\n",
       "      <th></th>\n",
       "      <th>t_dat</th>\n",
       "      <th>customer_id</th>\n",
       "      <th>article_id</th>\n",
       "      <th>max_dat</th>\n",
       "      <th>diff_dat</th>\n",
       "      <th>ct</th>\n",
       "    </tr>\n",
       "  </thead>\n",
       "  <tbody>\n",
       "    <tr>\n",
       "      <th>594148</th>\n",
       "      <td>2019-02-04</td>\n",
       "      <td>-7250849952617471376</td>\n",
       "      <td>570002001</td>\n",
       "      <td>2019-02-11</td>\n",
       "      <td>7</td>\n",
       "      <td>170</td>\n",
       "    </tr>\n",
       "    <tr>\n",
       "      <th>853929</th>\n",
       "      <td>2019-04-15</td>\n",
       "      <td>2923286585288886018</td>\n",
       "      <td>685347001</td>\n",
       "      <td>2019-05-09</td>\n",
       "      <td>24</td>\n",
       "      <td>130</td>\n",
       "    </tr>\n",
       "    <tr>\n",
       "      <th>1296427</th>\n",
       "      <td>2019-07-16</td>\n",
       "      <td>2729025827381139556</td>\n",
       "      <td>719348003</td>\n",
       "      <td>2019-07-16</td>\n",
       "      <td>0</td>\n",
       "      <td>100</td>\n",
       "    </tr>\n",
       "  </tbody>\n",
       "</table>\n",
       "</div>"
      ],
      "text/plain": [
       "             t_dat          customer_id  article_id    max_dat  diff_dat   ct\n",
       "594148  2019-02-04 -7250849952617471376   570002001 2019-02-11         7  170\n",
       "853929  2019-04-15  2923286585288886018   685347001 2019-05-09        24  130\n",
       "1296427 2019-07-16  2729025827381139556   719348003 2019-07-16         0  100"
      ]
     },
     "execution_count": 14,
     "metadata": {},
     "output_type": "execute_result"
    }
   ],
   "source": [
    "# (1) Recommend Most Often Previously Purchased Items\n",
    "\n",
    "tmp = train4.groupby(['customer_id','article_id'])['t_dat'].agg('count').reset_index()\n",
    "tmp.columns = ['customer_id','article_id','ct']\n",
    "train4 = train4.merge(tmp,on=['customer_id','article_id'],how='left')\n",
    "train4 = train4.sort_values(['ct','t_dat'],ascending=False)\n",
    "train4 = train4.drop_duplicates(['customer_id','article_id'])\n",
    "train4 = train4.sort_values(['ct','t_dat'],ascending=False)\n",
    "# train4['weight'] = train4.groupby('customer_id')['ct'].rank('dense')\n",
    "# train4['weight'] = train4['ct']\n",
    "train4.head(3)"
   ]
  },
  {
   "cell_type": "code",
   "execution_count": 15,
   "id": "522ea238",
   "metadata": {
    "execution": {
     "iopub.execute_input": "2022-02-21T03:22:54.098631Z",
     "iopub.status.busy": "2022-02-21T03:22:54.097548Z",
     "iopub.status.idle": "2022-02-21T03:22:54.631455Z",
     "shell.execute_reply": "2022-02-21T03:22:54.630480Z",
     "shell.execute_reply.started": "2022-02-20T02:55:25.77994Z"
    },
    "papermill": {
     "duration": 0.553924,
     "end_time": "2022-02-21T03:22:54.631595",
     "exception": false,
     "start_time": "2022-02-21T03:22:54.077671",
     "status": "completed"
    },
    "tags": []
   },
   "outputs": [
    {
     "data": {
      "text/html": [
       "<div>\n",
       "<style scoped>\n",
       "    .dataframe tbody tr th:only-of-type {\n",
       "        vertical-align: middle;\n",
       "    }\n",
       "\n",
       "    .dataframe tbody tr th {\n",
       "        vertical-align: top;\n",
       "    }\n",
       "\n",
       "    .dataframe thead th {\n",
       "        text-align: right;\n",
       "    }\n",
       "</style>\n",
       "<table border=\"1\" class=\"dataframe\">\n",
       "  <thead>\n",
       "    <tr style=\"text-align: right;\">\n",
       "      <th></th>\n",
       "      <th>t_dat</th>\n",
       "      <th>customer_id</th>\n",
       "      <th>article_id</th>\n",
       "      <th>max_dat</th>\n",
       "      <th>diff_dat</th>\n",
       "      <th>ct</th>\n",
       "      <th>article_id2</th>\n",
       "    </tr>\n",
       "  </thead>\n",
       "  <tbody>\n",
       "    <tr>\n",
       "      <th>594148</th>\n",
       "      <td>2019-02-04</td>\n",
       "      <td>-7250849952617471376</td>\n",
       "      <td>570002001</td>\n",
       "      <td>2019-02-11</td>\n",
       "      <td>7</td>\n",
       "      <td>170</td>\n",
       "      <td>570002002.0</td>\n",
       "    </tr>\n",
       "    <tr>\n",
       "      <th>853929</th>\n",
       "      <td>2019-04-15</td>\n",
       "      <td>2923286585288886018</td>\n",
       "      <td>685347001</td>\n",
       "      <td>2019-05-09</td>\n",
       "      <td>24</td>\n",
       "      <td>130</td>\n",
       "      <td>685347002.0</td>\n",
       "    </tr>\n",
       "    <tr>\n",
       "      <th>1296427</th>\n",
       "      <td>2019-07-16</td>\n",
       "      <td>2729025827381139556</td>\n",
       "      <td>719348003</td>\n",
       "      <td>2019-07-16</td>\n",
       "      <td>0</td>\n",
       "      <td>100</td>\n",
       "      <td>719348001.0</td>\n",
       "    </tr>\n",
       "  </tbody>\n",
       "</table>\n",
       "</div>"
      ],
      "text/plain": [
       "             t_dat          customer_id  article_id    max_dat  diff_dat   ct  \\\n",
       "594148  2019-02-04 -7250849952617471376   570002001 2019-02-11         7  170   \n",
       "853929  2019-04-15  2923286585288886018   685347001 2019-05-09        24  130   \n",
       "1296427 2019-07-16  2729025827381139556   719348003 2019-07-16         0  100   \n",
       "\n",
       "         article_id2  \n",
       "594148   570002002.0  \n",
       "853929   685347002.0  \n",
       "1296427  719348001.0  "
      ]
     },
     "execution_count": 15,
     "metadata": {},
     "output_type": "execute_result"
    }
   ],
   "source": [
    "# (2) Recommend Items Purchased Together\n",
    "\n",
    "# for 1 item\n",
    "pairs = np.load(f'../input/hmitempairs/pairs_cudf{FOLD}_1item.npy',allow_pickle=True).item()\n",
    "train4['article_id2'] = train4.article_id.map(pairs)\n",
    "\n",
    "# # for 5 items\n",
    "# pairs = pd.read_csv(f'../input/hmitempairs/pairs_df{FOLD}_5items.csv', index_col=0)\n",
    "# pairs_ls = []\n",
    "# for index, row in pairs.iterrows():\n",
    "#     for i, value in enumerate(row):\n",
    "#         pairs_ls.append((index, value, i))\n",
    "# pairs_df = pd.DataFrame(pairs_ls, columns=['article_id', 'article_id2', 'pair_rank'])\n",
    "# train4 = train4.merge(pairs_df, how='left', on='article_id')\n",
    "# train4 = train4.dropna(axis=0)\n",
    "# train4[['article_id2', 'pair_rank']] = train4[['article_id2', 'pair_rank']].astype(int)\n",
    "\n",
    "train4.head(3)"
   ]
  },
  {
   "cell_type": "code",
   "execution_count": 16,
   "id": "6a131c54",
   "metadata": {
    "execution": {
     "iopub.execute_input": "2022-02-21T03:22:54.700415Z",
     "iopub.status.busy": "2022-02-21T03:22:54.699166Z",
     "iopub.status.idle": "2022-02-21T03:22:56.039765Z",
     "shell.execute_reply": "2022-02-21T03:22:56.040864Z",
     "shell.execute_reply.started": "2022-02-20T02:55:26.337365Z"
    },
    "papermill": {
     "duration": 1.393878,
     "end_time": "2022-02-21T03:22:56.041115",
     "exception": false,
     "start_time": "2022-02-21T03:22:54.647237",
     "status": "completed"
    },
    "tags": []
   },
   "outputs": [],
   "source": [
    "# RECOMMENDATION OF PAIRED ITEMS\n",
    "train4_pair = train4[['customer_id','article_id2']].copy()\n",
    "train4_pair = train4_pair.loc[train4_pair.article_id2.notnull()]\n",
    "train4_pair = train4_pair.drop_duplicates(['customer_id','article_id2'])\n",
    "train4_pair = train4_pair.rename({'article_id2':'article_id'},axis=1)"
   ]
  },
  {
   "cell_type": "code",
   "execution_count": 17,
   "id": "5401a3ea",
   "metadata": {
    "execution": {
     "iopub.execute_input": "2022-02-21T03:22:56.108223Z",
     "iopub.status.busy": "2022-02-21T03:22:56.107455Z",
     "iopub.status.idle": "2022-02-21T03:22:58.228924Z",
     "shell.execute_reply": "2022-02-21T03:22:58.228465Z",
     "shell.execute_reply.started": "2022-02-20T02:55:27.629002Z"
    },
    "papermill": {
     "duration": 2.158594,
     "end_time": "2022-02-21T03:22:58.229051",
     "exception": false,
     "start_time": "2022-02-21T03:22:56.070457",
     "status": "completed"
    },
    "tags": []
   },
   "outputs": [],
   "source": [
    "# CONCATENATE PAIRED ITEM RECOMMENDATION\n",
    "train1 = train1[['customer_id','article_id']]\n",
    "train2 = train2[['customer_id','article_id']]\n",
    "train3 = train3[['customer_id','article_id']]\n",
    "train4 = train4[['customer_id','article_id']]\n",
    "\n",
    "train = pd.concat([train1, train1_pair, train2, train2_pair, train3, train3_pair, train4, train4_pair], axis=0, ignore_index=True)\n",
    "train.article_id = train.article_id.astype('int32')\n",
    "train = train.drop_duplicates(['customer_id','article_id'])"
   ]
  },
  {
   "cell_type": "code",
   "execution_count": 18,
   "id": "721a0173",
   "metadata": {
    "execution": {
     "iopub.execute_input": "2022-02-21T03:23:07.285060Z",
     "iopub.status.busy": "2022-02-21T03:23:07.103812Z",
     "iopub.status.idle": "2022-02-21T03:23:10.613441Z",
     "shell.execute_reply": "2022-02-21T03:23:10.612987Z",
     "shell.execute_reply.started": "2022-02-20T02:55:29.603253Z"
    },
    "papermill": {
     "duration": 12.368604,
     "end_time": "2022-02-21T03:23:10.613568",
     "exception": false,
     "start_time": "2022-02-21T03:22:58.244964",
     "status": "completed"
    },
    "tags": []
   },
   "outputs": [
    {
     "data": {
      "text/html": [
       "<div>\n",
       "<style scoped>\n",
       "    .dataframe tbody tr th:only-of-type {\n",
       "        vertical-align: middle;\n",
       "    }\n",
       "\n",
       "    .dataframe tbody tr th {\n",
       "        vertical-align: top;\n",
       "    }\n",
       "\n",
       "    .dataframe thead th {\n",
       "        text-align: right;\n",
       "    }\n",
       "</style>\n",
       "<table border=\"1\" class=\"dataframe\">\n",
       "  <thead>\n",
       "    <tr style=\"text-align: right;\">\n",
       "      <th></th>\n",
       "      <th>customer_id</th>\n",
       "      <th>prediction</th>\n",
       "    </tr>\n",
       "  </thead>\n",
       "  <tbody>\n",
       "    <tr>\n",
       "      <th>0</th>\n",
       "      <td>-9223352921020755230</td>\n",
       "      <td>0673396002 0812167004 0706016001 0812167002</td>\n",
       "    </tr>\n",
       "    <tr>\n",
       "      <th>1</th>\n",
       "      <td>-9223343869995384291</td>\n",
       "      <td>0908292002 0910601003 0903926002 0865929007 0...</td>\n",
       "    </tr>\n",
       "    <tr>\n",
       "      <th>2</th>\n",
       "      <td>-9223321797620987725</td>\n",
       "      <td>0580600006 0610776035 0688018003 0610776002</td>\n",
       "    </tr>\n",
       "    <tr>\n",
       "      <th>3</th>\n",
       "      <td>-9223319430705797669</td>\n",
       "      <td>0470985003 0562245001 0646592007 0504155001 0...</td>\n",
       "    </tr>\n",
       "    <tr>\n",
       "      <th>4</th>\n",
       "      <td>-9223308614576639426</td>\n",
       "      <td>0750423005 0750423001</td>\n",
       "    </tr>\n",
       "  </tbody>\n",
       "</table>\n",
       "</div>"
      ],
      "text/plain": [
       "           customer_id                                         prediction\n",
       "0 -9223352921020755230        0673396002 0812167004 0706016001 0812167002\n",
       "1 -9223343869995384291   0908292002 0910601003 0903926002 0865929007 0...\n",
       "2 -9223321797620987725        0580600006 0610776035 0688018003 0610776002\n",
       "3 -9223319430705797669   0470985003 0562245001 0646592007 0504155001 0...\n",
       "4 -9223308614576639426                              0750423005 0750423001"
      ]
     },
     "execution_count": 18,
     "metadata": {},
     "output_type": "execute_result"
    }
   ],
   "source": [
    "# CONVERT RECOMMENDATIONS INTO SINGLE STRING\n",
    "train.article_id = ' 0' + train.article_id.astype('str')\n",
    "preds = pd.DataFrame( train.groupby('customer_id').article_id.sum().reset_index() )\n",
    "preds.columns = ['customer_id','prediction']\n",
    "preds.head()"
   ]
  },
  {
   "cell_type": "code",
   "execution_count": 19,
   "id": "42e794a9",
   "metadata": {
    "execution": {
     "iopub.execute_input": "2022-02-21T03:23:10.683514Z",
     "iopub.status.busy": "2022-02-21T03:23:10.682867Z",
     "iopub.status.idle": "2022-02-21T03:23:11.143593Z",
     "shell.execute_reply": "2022-02-21T03:23:11.144030Z",
     "shell.execute_reply.started": "2022-02-20T02:55:42.705679Z"
    },
    "papermill": {
     "duration": 0.484118,
     "end_time": "2022-02-21T03:23:11.144185",
     "exception": false,
     "start_time": "2022-02-21T03:23:10.660067",
     "status": "completed"
    },
    "tags": []
   },
   "outputs": [
    {
     "name": "stdout",
     "output_type": "stream",
     "text": [
      "Top 12 popular items:\n",
      " 0909370001 0865799006 0918522001 0924243001 0448509014 0751471001 0809238001 0918292001 0762846027 0809238005 0673677002 0923758001\n"
     ]
    },
    {
     "data": {
      "text/plain": [
       "0.0     0685814003 0448509014 0918522001 0715624001 0...\n",
       "1.0     0909370001 0865799006 0924243001 0809238001 0...\n",
       "2.0     0909370001 0865799006 0918525001 0909371001 0...\n",
       "3.0     0909370001 0751471001 0673677002 0910601003 0...\n",
       "4.0     0918522001 0751471001 0751471043 0910601003 0...\n",
       "5.0     0918522001 0908799002 0896152002 0924243001 0...\n",
       "6.0     0736870001 0796210001 0908799002 0865799006 0...\n",
       "Name: top_12_popular_items, dtype: object"
      ]
     },
     "execution_count": 19,
     "metadata": {},
     "output_type": "execute_result"
    }
   ],
   "source": [
    "# (3) Recommend Most Popular Items\n",
    "\n",
    "train = pd.read_parquet(f'train{FOLD}.pqt')\n",
    "# train = pd.read_csv('../input/h-and-m-personalized-fashion-recommendations/transactions_train.csv')\n",
    "# train['customer_id'] = train['customer_id'].str[-16:].str.hex_to_int().astype('int64')\n",
    "# train['customer_id'] = train['customer_id'].apply(lambda x: int(x[-16:],16) ).astype('int64')\n",
    "# train['article_id'] = train.article_id.astype('int32')\n",
    "# train.t_dat = pd.to_datetime(train.t_dat)\n",
    "# train = train[['t_dat','customer_id','article_id']]\n",
    "\n",
    "train.t_dat = pd.to_datetime(train.t_dat)\n",
    "max_dat = train.t_dat.max()\n",
    "train['diff_dat'] = (max_dat - train['t_dat']).dt.days\n",
    "train = train.loc[train.diff_dat < 7]\n",
    "top12 = ' 0' + ' 0'.join(train.article_id.value_counts().index.astype('str')[:12])\n",
    "print(\"Top 12 popular items:\")\n",
    "print( top12 )\n",
    "\n",
    "customers = pd.read_csv('../input/h-and-m-personalized-fashion-recommendations/customers.csv')\n",
    "customers['customer_id'] = customers['customer_id'].apply(lambda x: int(x[-16:],16) ).astype('int64')\n",
    "customers['age_bin'] = pd.cut(customers['age'], bins=[10, 20, 30, 40, 50, 60, 70, 100], labels=False)\n",
    "train = train.merge(customers[['customer_id', 'age', 'age_bin']], how='left')\n",
    "popular_items = train.groupby('age_bin')['article_id'].value_counts()\n",
    "popular_items_dict = {}\n",
    "for index in popular_items.index.levels[0]:\n",
    "    popular_items_dict[index] = ' 0'+' 0'.join(popular_items[index][:12].index.astype('str'))\n",
    "popular_items_sr = pd.Series(popular_items_dict, name='top_12_popular_items', dtype='str')\n",
    "popular_items_sr"
   ]
  },
  {
   "cell_type": "markdown",
   "id": "0eb2d7ea",
   "metadata": {
    "papermill": {
     "duration": 0.015665,
     "end_time": "2022-02-21T03:23:11.176418",
     "exception": false,
     "start_time": "2022-02-21T03:23:11.160753",
     "status": "completed"
    },
    "tags": []
   },
   "source": [
    "# Write Submission CSV\n",
    "We will merge our predictions onto `sample_submission.csv` and submit to Kaggle."
   ]
  },
  {
   "cell_type": "code",
   "execution_count": 20,
   "id": "babce36c",
   "metadata": {
    "execution": {
     "iopub.execute_input": "2022-02-21T03:23:11.215476Z",
     "iopub.status.busy": "2022-02-21T03:23:11.214801Z",
     "iopub.status.idle": "2022-02-21T03:23:15.358987Z",
     "shell.execute_reply": "2022-02-21T03:23:15.359462Z",
     "shell.execute_reply.started": "2022-02-20T02:55:43.173171Z"
    },
    "papermill": {
     "duration": 4.166813,
     "end_time": "2022-02-21T03:23:15.359616",
     "exception": false,
     "start_time": "2022-02-21T03:23:11.192803",
     "status": "completed"
    },
    "tags": []
   },
   "outputs": [
    {
     "data": {
      "text/html": [
       "<div>\n",
       "<style scoped>\n",
       "    .dataframe tbody tr th:only-of-type {\n",
       "        vertical-align: middle;\n",
       "    }\n",
       "\n",
       "    .dataframe tbody tr th {\n",
       "        vertical-align: top;\n",
       "    }\n",
       "\n",
       "    .dataframe thead th {\n",
       "        text-align: right;\n",
       "    }\n",
       "</style>\n",
       "<table border=\"1\" class=\"dataframe\">\n",
       "  <thead>\n",
       "    <tr style=\"text-align: right;\">\n",
       "      <th></th>\n",
       "      <th>customer_id</th>\n",
       "      <th>prediction</th>\n",
       "    </tr>\n",
       "  </thead>\n",
       "  <tbody>\n",
       "    <tr>\n",
       "      <th>0</th>\n",
       "      <td>00000dbacae5abe5e23885899a1fa44253a17956c6d1c3...</td>\n",
       "      <td>0568601043 0568601006 0909370001 0751471001 06...</td>\n",
       "    </tr>\n",
       "    <tr>\n",
       "      <th>1</th>\n",
       "      <td>0000423b00ade91418cceaf3b26c6af3dd342b51fd051e...</td>\n",
       "      <td>0826211002 0706016001 0909370001 0865799006 09...</td>\n",
       "    </tr>\n",
       "    <tr>\n",
       "      <th>2</th>\n",
       "      <td>000058a12d5b43e67d225668fa1f8d618c13dc232df0ca...</td>\n",
       "      <td>0794321007 0794321011 0909370001 0865799006 09...</td>\n",
       "    </tr>\n",
       "    <tr>\n",
       "      <th>3</th>\n",
       "      <td>00005ca1c9ed5f5146b52ac8639a40ca9d57aeff4d1bd2...</td>\n",
       "      <td>0742079001 0732413001 0730683001 0372860001 09...</td>\n",
       "    </tr>\n",
       "    <tr>\n",
       "      <th>4</th>\n",
       "      <td>00006413d8573cd20ed7128e53b7b13819fe5cfc2d801f...</td>\n",
       "      <td>0896152002 0730683050 0927530004 0791587015 08...</td>\n",
       "    </tr>\n",
       "  </tbody>\n",
       "</table>\n",
       "</div>"
      ],
      "text/plain": [
       "                                         customer_id  \\\n",
       "0  00000dbacae5abe5e23885899a1fa44253a17956c6d1c3...   \n",
       "1  0000423b00ade91418cceaf3b26c6af3dd342b51fd051e...   \n",
       "2  000058a12d5b43e67d225668fa1f8d618c13dc232df0ca...   \n",
       "3  00005ca1c9ed5f5146b52ac8639a40ca9d57aeff4d1bd2...   \n",
       "4  00006413d8573cd20ed7128e53b7b13819fe5cfc2d801f...   \n",
       "\n",
       "                                          prediction  \n",
       "0  0568601043 0568601006 0909370001 0751471001 06...  \n",
       "1  0826211002 0706016001 0909370001 0865799006 09...  \n",
       "2  0794321007 0794321011 0909370001 0865799006 09...  \n",
       "3  0742079001 0732413001 0730683001 0372860001 09...  \n",
       "4  0896152002 0730683050 0927530004 0791587015 08...  "
      ]
     },
     "execution_count": 20,
     "metadata": {},
     "output_type": "execute_result"
    }
   ],
   "source": [
    "sub = pd.read_csv('../input/h-and-m-personalized-fashion-recommendations/sample_submission.csv')\n",
    "sub = sub[['customer_id']]\n",
    "sub['customer_id_2'] = sub['customer_id'].apply(lambda x: int(x[-16:],16) ).astype('int64')\n",
    "sub = sub.merge(preds.rename({'customer_id':'customer_id_2'},axis=1),\\\n",
    "    on='customer_id_2', how='left').fillna('')\n",
    "# del sub['customer_id_2']\n",
    "# sub.prediction = sub.prediction + top12\n",
    "sub = sub.merge(customers[['customer_id', 'age_bin']].rename(columns={'customer_id': 'customer_id_2'}), on='customer_id_2', how='left')\n",
    "sub['top12_popular_items'] = sub['age_bin'].map(popular_items_sr)\n",
    "sub['top12_popular_items'] = sub['top12_popular_items'].fillna(top12).astype('str')\n",
    "sub.prediction = sub.prediction + sub.top12_popular_items\n",
    "sub = sub[['customer_id', 'prediction']]\n",
    "sub.prediction = sub.prediction.str.strip()\n",
    "sub.prediction = sub.prediction.str[:131]\n",
    "sub.to_csv(f'../submissions/{EXP}_submission{FOLD}.csv',index=False)\n",
    "sub.head()"
   ]
  }
 ],
 "metadata": {
  "kernelspec": {
   "display_name": "Python 3",
   "language": "python",
   "name": "python3"
  },
  "language_info": {
   "codemirror_mode": {
    "name": "ipython",
    "version": 3
   },
   "file_extension": ".py",
   "mimetype": "text/x-python",
   "name": "python",
   "nbconvert_exporter": "python",
   "pygments_lexer": "ipython3",
   "version": "3.8.13"
  },
  "papermill": {
   "default_parameters": {},
   "duration": 73.907502,
   "end_time": "2022-02-21T03:23:16.487003",
   "environment_variables": {},
   "exception": null,
   "input_path": "__notebook__.ipynb",
   "output_path": "__notebook__.ipynb",
   "parameters": {},
   "start_time": "2022-02-21T03:22:02.579501",
   "version": "2.3.3"
  }
 },
 "nbformat": 4,
 "nbformat_minor": 5
}
