{
 "cells": [
  {
   "cell_type": "code",
   "execution_count": 1,
   "id": "e2b66ec9",
   "metadata": {
    "_cell_guid": "b1076dfc-b9ad-4769-8c92-a6c4dae69d19",
    "_uuid": "8f2839f25d086af736a60e9eeb907d3b93b6e0e5",
    "execution": {
     "iopub.execute_input": "2022-03-08T19:44:56.327194Z",
     "iopub.status.busy": "2022-03-08T19:44:56.326012Z",
     "iopub.status.idle": "2022-03-08T19:44:56.335392Z",
     "shell.execute_reply": "2022-03-08T19:44:56.335946Z",
     "shell.execute_reply.started": "2022-03-08T19:27:32.305576Z"
    },
    "papermill": {
     "duration": 0.02655,
     "end_time": "2022-03-08T19:44:56.336254",
     "exception": false,
     "start_time": "2022-03-08T19:44:56.309704",
     "status": "completed"
    },
    "tags": []
   },
   "outputs": [],
   "source": [
    "# 006(together)と009(trending)と012(trending&together)のアンサンブル\n",
    "# 重みは最適化で求める\n",
    "\n",
    "\n",
    "EXP = '013'\n",
    "FOLD = '_fold1' # '_fold1' のように指定、全データ学習時は'' を指定\n",
    "\n",
    "import gc\n",
    "import os\n",
    "from scipy import optimize\n",
    "import numpy as np\n",
    "import pandas as pd\n",
    "from tqdm import tqdm\n",
    "\n",
    "from validation import mean_average_precision"
   ]
  },
  {
   "cell_type": "code",
   "execution_count": 2,
   "id": "d3db1d35",
   "metadata": {
    "execution": {
     "iopub.execute_input": "2022-03-08T19:44:57.177072Z",
     "iopub.status.busy": "2022-03-08T19:44:57.176344Z",
     "iopub.status.idle": "2022-03-08T19:45:20.868975Z",
     "shell.execute_reply": "2022-03-08T19:45:20.869483Z",
     "shell.execute_reply.started": "2022-03-08T19:35:53.311269Z"
    },
    "papermill": {
     "duration": 23.709514,
     "end_time": "2022-03-08T19:45:20.869678",
     "exception": false,
     "start_time": "2022-03-08T19:44:57.160164",
     "status": "completed"
    },
    "tags": []
   },
   "outputs": [
    {
     "data": {
      "text/plain": [
       "((1371980, 2), (1371980, 2), (1371980, 2))"
      ]
     },
     "execution_count": 2,
     "metadata": {},
     "output_type": "execute_result"
    }
   ],
   "source": [
    "sub0 = pd.read_csv(f'../submissions/006_submission{FOLD}_1item.csv').sort_values('customer_id').reset_index(drop=True)\n",
    "sub1 = pd.read_csv(f'../submissions/009_submission{FOLD}.csv').sort_values('customer_id').reset_index(drop=True)\n",
    "sub2 = pd.read_csv(f'../submissions/012_submission{FOLD}.csv').sort_values('customer_id').reset_index(drop=True)\n",
    "\n",
    "sub0.shape, sub1.shape, sub2.shape"
   ]
  },
  {
   "cell_type": "code",
   "execution_count": 3,
   "id": "78c4428c",
   "metadata": {
    "execution": {
     "iopub.execute_input": "2022-03-08T19:45:20.899643Z",
     "iopub.status.busy": "2022-03-08T19:45:20.898900Z",
     "iopub.status.idle": "2022-03-08T19:45:21.952757Z",
     "shell.execute_reply": "2022-03-08T19:45:21.952175Z",
     "shell.execute_reply.started": "2022-03-08T19:36:10.916540Z"
    },
    "papermill": {
     "duration": 1.07014,
     "end_time": "2022-03-08T19:45:21.952904",
     "exception": false,
     "start_time": "2022-03-08T19:45:20.882764",
     "status": "completed"
    },
    "tags": []
   },
   "outputs": [
    {
     "name": "stdout",
     "output_type": "stream",
     "text": [
      "7.288735987405064e-07\n",
      "0.00016180993892039243\n",
      "0.23518710185279668\n"
     ]
    }
   ],
   "source": [
    "# How many predictions are in common between models\n",
    "\n",
    "print((sub0['prediction']==sub1['prediction']).mean())\n",
    "print((sub0['prediction']==sub2['prediction']).mean())\n",
    "print((sub1['prediction']==sub2['prediction']).mean())"
   ]
  },
  {
   "cell_type": "code",
   "execution_count": 4,
   "id": "2531d416",
   "metadata": {
    "execution": {
     "iopub.execute_input": "2022-03-08T19:45:22.034655Z",
     "iopub.status.busy": "2022-03-08T19:45:22.033937Z",
     "iopub.status.idle": "2022-03-08T19:45:22.221921Z",
     "shell.execute_reply": "2022-03-08T19:45:22.221201Z",
     "shell.execute_reply.started": "2022-03-08T19:36:11.974043Z"
    },
    "papermill": {
     "duration": 0.20939,
     "end_time": "2022-03-08T19:45:22.222074",
     "exception": false,
     "start_time": "2022-03-08T19:45:22.012684",
     "status": "completed"
    },
    "tags": []
   },
   "outputs": [
    {
     "data": {
      "text/html": [
       "<div>\n",
       "<style scoped>\n",
       "    .dataframe tbody tr th:only-of-type {\n",
       "        vertical-align: middle;\n",
       "    }\n",
       "\n",
       "    .dataframe tbody tr th {\n",
       "        vertical-align: top;\n",
       "    }\n",
       "\n",
       "    .dataframe thead th {\n",
       "        text-align: right;\n",
       "    }\n",
       "</style>\n",
       "<table border=\"1\" class=\"dataframe\">\n",
       "  <thead>\n",
       "    <tr style=\"text-align: right;\">\n",
       "      <th></th>\n",
       "      <th>customer_id</th>\n",
       "      <th>prediction0</th>\n",
       "      <th>prediction1</th>\n",
       "      <th>prediction2</th>\n",
       "    </tr>\n",
       "  </thead>\n",
       "  <tbody>\n",
       "    <tr>\n",
       "      <th>0</th>\n",
       "      <td>00000dbacae5abe5e23885899a1fa44253a17956c6d1c3...</td>\n",
       "      <td>0568601043 0568601006 0909370001 0751471001 06...</td>\n",
       "      <td>0568601043 0568601006 0859416011 0745232001 07...</td>\n",
       "      <td>0568601043 0568601006 0859416011 0568597006 07...</td>\n",
       "    </tr>\n",
       "    <tr>\n",
       "      <th>1</th>\n",
       "      <td>0000423b00ade91418cceaf3b26c6af3dd342b51fd051e...</td>\n",
       "      <td>0826211002 0706016001 0909370001 0865799006 09...</td>\n",
       "      <td>0826211002 0739590027 0764280001 0590928022 07...</td>\n",
       "      <td>0826211002 0706016001 0739590027 0764280001 05...</td>\n",
       "    </tr>\n",
       "    <tr>\n",
       "      <th>2</th>\n",
       "      <td>000058a12d5b43e67d225668fa1f8d618c13dc232df0ca...</td>\n",
       "      <td>0794321007 0794321011 0909370001 0865799006 09...</td>\n",
       "      <td>0794321007 0852643003 0852643001 0727808007 08...</td>\n",
       "      <td>0794321007 0794321011 0852643003 0852643001 07...</td>\n",
       "    </tr>\n",
       "    <tr>\n",
       "      <th>3</th>\n",
       "      <td>00005ca1c9ed5f5146b52ac8639a40ca9d57aeff4d1bd2...</td>\n",
       "      <td>0742079001 0732413001 0730683001 0372860001 09...</td>\n",
       "      <td>0918522001 0751471001 0751471043 0910601003 07...</td>\n",
       "      <td>0918522001 0751471001 0751471043 0910601003 07...</td>\n",
       "    </tr>\n",
       "    <tr>\n",
       "      <th>4</th>\n",
       "      <td>00006413d8573cd20ed7128e53b7b13819fe5cfc2d801f...</td>\n",
       "      <td>0896152002 0730683050 0927530004 0791587015 08...</td>\n",
       "      <td>0896152002 0791587015 0730683050 0927530004 08...</td>\n",
       "      <td>0896152002 0791587015 0730683050 0927530004 08...</td>\n",
       "    </tr>\n",
       "  </tbody>\n",
       "</table>\n",
       "</div>"
      ],
      "text/plain": [
       "                                         customer_id  \\\n",
       "0  00000dbacae5abe5e23885899a1fa44253a17956c6d1c3...   \n",
       "1  0000423b00ade91418cceaf3b26c6af3dd342b51fd051e...   \n",
       "2  000058a12d5b43e67d225668fa1f8d618c13dc232df0ca...   \n",
       "3  00005ca1c9ed5f5146b52ac8639a40ca9d57aeff4d1bd2...   \n",
       "4  00006413d8573cd20ed7128e53b7b13819fe5cfc2d801f...   \n",
       "\n",
       "                                         prediction0  \\\n",
       "0  0568601043 0568601006 0909370001 0751471001 06...   \n",
       "1  0826211002 0706016001 0909370001 0865799006 09...   \n",
       "2  0794321007 0794321011 0909370001 0865799006 09...   \n",
       "3  0742079001 0732413001 0730683001 0372860001 09...   \n",
       "4  0896152002 0730683050 0927530004 0791587015 08...   \n",
       "\n",
       "                                         prediction1  \\\n",
       "0  0568601043 0568601006 0859416011 0745232001 07...   \n",
       "1  0826211002 0739590027 0764280001 0590928022 07...   \n",
       "2  0794321007 0852643003 0852643001 0727808007 08...   \n",
       "3  0918522001 0751471001 0751471043 0910601003 07...   \n",
       "4  0896152002 0791587015 0730683050 0927530004 08...   \n",
       "\n",
       "                                         prediction2  \n",
       "0  0568601043 0568601006 0859416011 0568597006 07...  \n",
       "1  0826211002 0706016001 0739590027 0764280001 05...  \n",
       "2  0794321007 0794321011 0852643003 0852643001 07...  \n",
       "3  0918522001 0751471001 0751471043 0910601003 07...  \n",
       "4  0896152002 0791587015 0730683050 0927530004 08...  "
      ]
     },
     "execution_count": 4,
     "metadata": {},
     "output_type": "execute_result"
    }
   ],
   "source": [
    "sub0.columns = ['customer_id', 'prediction0']\n",
    "sub0['prediction1'] = sub1['prediction']\n",
    "sub0['prediction2'] = sub2['prediction']\n",
    "\n",
    "del sub1, sub2\n",
    "gc.collect()\n",
    "\n",
    "sub0.head()"
   ]
  },
  {
   "cell_type": "code",
   "execution_count": 5,
   "id": "f16a4737",
   "metadata": {
    "execution": {
     "iopub.execute_input": "2022-03-08T19:45:22.256852Z",
     "iopub.status.busy": "2022-03-08T19:45:22.256144Z",
     "iopub.status.idle": "2022-03-08T19:46:30.863910Z",
     "shell.execute_reply": "2022-03-08T19:46:30.864481Z",
     "shell.execute_reply.started": "2022-03-08T19:36:38.156892Z"
    },
    "papermill": {
     "duration": 68.627648,
     "end_time": "2022-03-08T19:46:30.864679",
     "exception": false,
     "start_time": "2022-03-08T19:45:22.237031",
     "status": "completed"
    },
    "tags": []
   },
   "outputs": [
    {
     "name": "stderr",
     "output_type": "stream",
     "text": [
      "100%|██████████| 5/5 [2:41:23<00:00, 1936.75s/it]  \n"
     ]
    },
    {
     "name": "stdout",
     "output_type": "stream",
     "text": [
      "Best score: -0.027427004507830834 \n",
      " Best weight: [0.05268751 0.07144168 0.66675557]\n"
     ]
    },
    {
     "data": {
      "text/html": [
       "<div>\n",
       "<style scoped>\n",
       "    .dataframe tbody tr th:only-of-type {\n",
       "        vertical-align: middle;\n",
       "    }\n",
       "\n",
       "    .dataframe tbody tr th {\n",
       "        vertical-align: top;\n",
       "    }\n",
       "\n",
       "    .dataframe thead th {\n",
       "        text-align: right;\n",
       "    }\n",
       "</style>\n",
       "<table border=\"1\" class=\"dataframe\">\n",
       "  <thead>\n",
       "    <tr style=\"text-align: right;\">\n",
       "      <th></th>\n",
       "      <th>customer_id</th>\n",
       "      <th>prediction0</th>\n",
       "      <th>prediction1</th>\n",
       "      <th>prediction2</th>\n",
       "      <th>prediction</th>\n",
       "    </tr>\n",
       "  </thead>\n",
       "  <tbody>\n",
       "    <tr>\n",
       "      <th>0</th>\n",
       "      <td>00000dbacae5abe5e23885899a1fa44253a17956c6d1c3...</td>\n",
       "      <td>0568601043 0568601006 0909370001 0751471001 06...</td>\n",
       "      <td>0568601043 0568601006 0859416011 0745232001 07...</td>\n",
       "      <td>0568601043 0568601006 0859416011 0568597006 07...</td>\n",
       "      <td>0568601043 0568601006 0909370001 0859416011 07...</td>\n",
       "    </tr>\n",
       "    <tr>\n",
       "      <th>1</th>\n",
       "      <td>0000423b00ade91418cceaf3b26c6af3dd342b51fd051e...</td>\n",
       "      <td>0826211002 0706016001 0909370001 0865799006 09...</td>\n",
       "      <td>0826211002 0739590027 0764280001 0590928022 07...</td>\n",
       "      <td>0826211002 0706016001 0739590027 0764280001 05...</td>\n",
       "      <td>0826211002 0739590027 0706016001 0764280001 05...</td>\n",
       "    </tr>\n",
       "    <tr>\n",
       "      <th>2</th>\n",
       "      <td>000058a12d5b43e67d225668fa1f8d618c13dc232df0ca...</td>\n",
       "      <td>0794321007 0794321011 0909370001 0865799006 09...</td>\n",
       "      <td>0794321007 0852643003 0852643001 0727808007 08...</td>\n",
       "      <td>0794321007 0794321011 0852643003 0852643001 07...</td>\n",
       "      <td>0794321007 0852643003 0794321011 0909370001 08...</td>\n",
       "    </tr>\n",
       "    <tr>\n",
       "      <th>3</th>\n",
       "      <td>00005ca1c9ed5f5146b52ac8639a40ca9d57aeff4d1bd2...</td>\n",
       "      <td>0742079001 0732413001 0730683001 0372860001 09...</td>\n",
       "      <td>0918522001 0751471001 0751471043 0910601003 07...</td>\n",
       "      <td>0918522001 0751471001 0751471043 0910601003 07...</td>\n",
       "      <td>0918522001 0742079001 0751471001 0751471043 07...</td>\n",
       "    </tr>\n",
       "    <tr>\n",
       "      <th>4</th>\n",
       "      <td>00006413d8573cd20ed7128e53b7b13819fe5cfc2d801f...</td>\n",
       "      <td>0896152002 0730683050 0927530004 0791587015 08...</td>\n",
       "      <td>0896152002 0791587015 0730683050 0927530004 08...</td>\n",
       "      <td>0896152002 0791587015 0730683050 0927530004 08...</td>\n",
       "      <td>0896152002 0730683050 0791587015 0927530004 09...</td>\n",
       "    </tr>\n",
       "  </tbody>\n",
       "</table>\n",
       "</div>"
      ],
      "text/plain": [
       "                                         customer_id  \\\n",
       "0  00000dbacae5abe5e23885899a1fa44253a17956c6d1c3...   \n",
       "1  0000423b00ade91418cceaf3b26c6af3dd342b51fd051e...   \n",
       "2  000058a12d5b43e67d225668fa1f8d618c13dc232df0ca...   \n",
       "3  00005ca1c9ed5f5146b52ac8639a40ca9d57aeff4d1bd2...   \n",
       "4  00006413d8573cd20ed7128e53b7b13819fe5cfc2d801f...   \n",
       "\n",
       "                                         prediction0  \\\n",
       "0  0568601043 0568601006 0909370001 0751471001 06...   \n",
       "1  0826211002 0706016001 0909370001 0865799006 09...   \n",
       "2  0794321007 0794321011 0909370001 0865799006 09...   \n",
       "3  0742079001 0732413001 0730683001 0372860001 09...   \n",
       "4  0896152002 0730683050 0927530004 0791587015 08...   \n",
       "\n",
       "                                         prediction1  \\\n",
       "0  0568601043 0568601006 0859416011 0745232001 07...   \n",
       "1  0826211002 0739590027 0764280001 0590928022 07...   \n",
       "2  0794321007 0852643003 0852643001 0727808007 08...   \n",
       "3  0918522001 0751471001 0751471043 0910601003 07...   \n",
       "4  0896152002 0791587015 0730683050 0927530004 08...   \n",
       "\n",
       "                                         prediction2  \\\n",
       "0  0568601043 0568601006 0859416011 0568597006 07...   \n",
       "1  0826211002 0706016001 0739590027 0764280001 05...   \n",
       "2  0794321007 0794321011 0852643003 0852643001 07...   \n",
       "3  0918522001 0751471001 0751471043 0910601003 07...   \n",
       "4  0896152002 0791587015 0730683050 0927530004 08...   \n",
       "\n",
       "                                          prediction  \n",
       "0  0568601043 0568601006 0909370001 0859416011 07...  \n",
       "1  0826211002 0739590027 0706016001 0764280001 05...  \n",
       "2  0794321007 0852643003 0794321011 0909370001 08...  \n",
       "3  0918522001 0742079001 0751471001 0751471043 07...  \n",
       "4  0896152002 0730683050 0791587015 0927530004 09...  "
      ]
     },
     "execution_count": 5,
     "metadata": {},
     "output_type": "execute_result"
    }
   ],
   "source": [
    "def cust_blend(dt, W = [1,1,1]):\n",
    "    #Global ensemble weights\n",
    "    #W = [1.15,0.95,0.85]\n",
    "    \n",
    "    #Create a list of all model predictions\n",
    "    REC = []\n",
    "    REC.append(dt['prediction0'].split())\n",
    "    REC.append(dt['prediction1'].split())\n",
    "    \n",
    "    #Create a dictionary of items recommended. \n",
    "    #Assign a weight according the order of appearance and multiply by global weights\n",
    "    res = {}\n",
    "    for M in range(len(REC)):\n",
    "        for n, v in enumerate(REC[M]):\n",
    "            if v in res:\n",
    "                res[v] += (W[M]/(n+1))\n",
    "            else:\n",
    "                res[v] = (W[M]/(n+1))\n",
    "    \n",
    "    # Sort dictionary by item weights\n",
    "    res = list(dict(sorted(res.items(), key=lambda item: -item[1])).keys())\n",
    "    \n",
    "    # Return the top 12 items only\n",
    "    return ' '.join(res[:12])\n",
    "\n",
    "def cust_blend_ls(dt, W = [1,1,1]):\n",
    "    #Global ensemble weights\n",
    "    #W = [1.15,0.95,0.85]\n",
    "    \n",
    "    #Create a list of all model predictions\n",
    "    REC = []\n",
    "    REC.append(dt['prediction0'].split())\n",
    "    REC.append(dt['prediction1'].split())\n",
    "    \n",
    "    #Create a dictionary of items recommended. \n",
    "    #Assign a weight according the order of appearance and multiply by global weights\n",
    "    res = {}\n",
    "    for M in range(len(REC)):\n",
    "        for n, v in enumerate(REC[M]):\n",
    "            if v in res:\n",
    "                res[v] += (W[M]/(n+1))\n",
    "            else:\n",
    "                res[v] = (W[M]/(n+1))\n",
    "    \n",
    "    # Sort dictionary by item weights\n",
    "    res = list(dict(sorted(res.items(), key=lambda item: -item[1])).keys())\n",
    "    \n",
    "    # Return the top 12 items only\n",
    "    return res[:12]\n",
    "\n",
    "if FOLD != '':\n",
    "    np.random.seed(41)\n",
    "\n",
    "    scores = []\n",
    "    weights = []\n",
    "    transaction = pd.read_csv(f'../input/valid/transactions_valid{FOLD}.csv', dtype={'article_id': str}, parse_dates=['t_dat'])\n",
    "    # true and pred dataframe\n",
    "    true = transaction.groupby('customer_id')['article_id'].apply(lambda items: list(set(items))).reset_index().rename(columns={'article_id': 'true'})\n",
    "\n",
    "    def loss(x):\n",
    "        sub0['prediction'] = sub0.apply(cust_blend_ls, W = x, axis=1)\n",
    "        sub0['prediction'] = sub0['prediction'].map(lambda l: [v[1:] for v in l])\n",
    "        true_and_pred = pd.merge(true, sub0, how='left')\n",
    "        # true_and_pred['prediction'] = true_and_pred['prediction'].str.split(' ').map(lambda l: [v[1:] for v in l])\n",
    "        return (-1) * mean_average_precision(true_and_pred['true'].to_list(), true_and_pred['prediction'].to_list(), k=12)\n",
    "\n",
    "    # 重みの最適化を繰り返す\n",
    "    for i in tqdm(range(5)):\n",
    "        initial_weight = np.random.uniform(size=3)\n",
    "        result = optimize.minimize(loss, initial_weight, method='Nelder-Mead')\n",
    "        scores.append(result['fun'])\n",
    "        weights.append(result['x'])\n",
    "\n",
    "    best_score = np.min(scores)\n",
    "    best_weight = weights[np.argmin(scores)]\n",
    "    print(f'Best score: {best_score} \\n Best weight: {best_weight}')\n",
    "    sub0['prediction'] = sub0.apply(cust_blend, W = best_weight, axis=1)\n",
    "else:\n",
    "    sub0['prediction'] = sub0.apply(cust_blend, W = [0.05268751, 0.07144168, 0.66675557], axis=1)\n",
    "sub0.head()"
   ]
  },
  {
   "cell_type": "code",
   "execution_count": 6,
   "id": "1913690c",
   "metadata": {
    "execution": {
     "iopub.execute_input": "2022-03-08T19:46:30.899035Z",
     "iopub.status.busy": "2022-03-08T19:46:30.898356Z",
     "iopub.status.idle": "2022-03-08T19:46:31.912822Z",
     "shell.execute_reply": "2022-03-08T19:46:31.912099Z"
    },
    "papermill": {
     "duration": 1.032894,
     "end_time": "2022-03-08T19:46:31.912974",
     "exception": false,
     "start_time": "2022-03-08T19:46:30.880080",
     "status": "completed"
    },
    "tags": []
   },
   "outputs": [
    {
     "name": "stdout",
     "output_type": "stream",
     "text": [
      "7.288735987405064e-07\n",
      "0.00023178180439948105\n",
      "0.00013994373095817724\n"
     ]
    }
   ],
   "source": [
    "# How many predictions are in common with ensemble\n",
    "\n",
    "print((sub0['prediction']==sub0['prediction0']).mean())\n",
    "print((sub0['prediction']==sub0['prediction1']).mean())\n",
    "print((sub0['prediction']==sub0['prediction2']).mean())"
   ]
  },
  {
   "cell_type": "markdown",
   "id": "a16ff3f2",
   "metadata": {
    "papermill": {
     "duration": 0.016489,
     "end_time": "2022-03-08T19:46:31.946346",
     "exception": false,
     "start_time": "2022-03-08T19:46:31.929857",
     "status": "completed"
    },
    "tags": []
   },
   "source": [
    "# Make a submission"
   ]
  },
  {
   "cell_type": "code",
   "execution_count": 7,
   "id": "81cb1282",
   "metadata": {
    "execution": {
     "iopub.execute_input": "2022-03-08T19:46:31.987684Z",
     "iopub.status.busy": "2022-03-08T19:46:31.986897Z",
     "iopub.status.idle": "2022-03-08T19:46:44.897392Z",
     "shell.execute_reply": "2022-03-08T19:46:44.896659Z"
    },
    "papermill": {
     "duration": 12.934443,
     "end_time": "2022-03-08T19:46:44.897604",
     "exception": false,
     "start_time": "2022-03-08T19:46:31.963161",
     "status": "completed"
    },
    "tags": []
   },
   "outputs": [
    {
     "data": {
      "text/html": [
       "<div>\n",
       "<style scoped>\n",
       "    .dataframe tbody tr th:only-of-type {\n",
       "        vertical-align: middle;\n",
       "    }\n",
       "\n",
       "    .dataframe tbody tr th {\n",
       "        vertical-align: top;\n",
       "    }\n",
       "\n",
       "    .dataframe thead th {\n",
       "        text-align: right;\n",
       "    }\n",
       "</style>\n",
       "<table border=\"1\" class=\"dataframe\">\n",
       "  <thead>\n",
       "    <tr style=\"text-align: right;\">\n",
       "      <th></th>\n",
       "      <th>customer_id</th>\n",
       "      <th>prediction</th>\n",
       "    </tr>\n",
       "  </thead>\n",
       "  <tbody>\n",
       "    <tr>\n",
       "      <th>0</th>\n",
       "      <td>00000dbacae5abe5e23885899a1fa44253a17956c6d1c3...</td>\n",
       "      <td>0568601043 0568601006 0909370001 0859416011 07...</td>\n",
       "    </tr>\n",
       "    <tr>\n",
       "      <th>1</th>\n",
       "      <td>0000423b00ade91418cceaf3b26c6af3dd342b51fd051e...</td>\n",
       "      <td>0826211002 0739590027 0706016001 0764280001 05...</td>\n",
       "    </tr>\n",
       "    <tr>\n",
       "      <th>2</th>\n",
       "      <td>000058a12d5b43e67d225668fa1f8d618c13dc232df0ca...</td>\n",
       "      <td>0794321007 0852643003 0794321011 0909370001 08...</td>\n",
       "    </tr>\n",
       "    <tr>\n",
       "      <th>3</th>\n",
       "      <td>00005ca1c9ed5f5146b52ac8639a40ca9d57aeff4d1bd2...</td>\n",
       "      <td>0918522001 0742079001 0751471001 0751471043 07...</td>\n",
       "    </tr>\n",
       "    <tr>\n",
       "      <th>4</th>\n",
       "      <td>00006413d8573cd20ed7128e53b7b13819fe5cfc2d801f...</td>\n",
       "      <td>0896152002 0730683050 0791587015 0927530004 09...</td>\n",
       "    </tr>\n",
       "  </tbody>\n",
       "</table>\n",
       "</div>"
      ],
      "text/plain": [
       "                                         customer_id  \\\n",
       "0  00000dbacae5abe5e23885899a1fa44253a17956c6d1c3...   \n",
       "1  0000423b00ade91418cceaf3b26c6af3dd342b51fd051e...   \n",
       "2  000058a12d5b43e67d225668fa1f8d618c13dc232df0ca...   \n",
       "3  00005ca1c9ed5f5146b52ac8639a40ca9d57aeff4d1bd2...   \n",
       "4  00006413d8573cd20ed7128e53b7b13819fe5cfc2d801f...   \n",
       "\n",
       "                                          prediction  \n",
       "0  0568601043 0568601006 0909370001 0859416011 07...  \n",
       "1  0826211002 0739590027 0706016001 0764280001 05...  \n",
       "2  0794321007 0852643003 0794321011 0909370001 08...  \n",
       "3  0918522001 0742079001 0751471001 0751471043 07...  \n",
       "4  0896152002 0730683050 0791587015 0927530004 09...  "
      ]
     },
     "execution_count": 7,
     "metadata": {},
     "output_type": "execute_result"
    }
   ],
   "source": [
    "del sub0['prediction0']\n",
    "del sub0['prediction1']\n",
    "del sub0['prediction2']\n",
    "gc.collect()\n",
    "\n",
    "sub0.to_csv(f'../submissions/{EXP}_submission{FOLD}.csv', index=False)\n",
    "sub0.head()"
   ]
  }
 ],
 "metadata": {
  "kernelspec": {
   "display_name": "Python 3",
   "language": "python",
   "name": "python3"
  },
  "language_info": {
   "codemirror_mode": {
    "name": "ipython",
    "version": 3
   },
   "file_extension": ".py",
   "mimetype": "text/x-python",
   "name": "python",
   "nbconvert_exporter": "python",
   "pygments_lexer": "ipython3",
   "version": "3.8.13"
  },
  "papermill": {
   "default_parameters": {},
   "duration": 120.207446,
   "end_time": "2022-03-08T19:46:45.960213",
   "environment_variables": {},
   "exception": null,
   "input_path": "__notebook__.ipynb",
   "output_path": "__notebook__.ipynb",
   "parameters": {},
   "start_time": "2022-03-08T19:44:45.752767",
   "version": "2.3.3"
  }
 },
 "nbformat": 4,
 "nbformat_minor": 5
}
