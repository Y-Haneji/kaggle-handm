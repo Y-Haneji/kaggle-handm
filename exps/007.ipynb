{
 "cells": [
  {
   "cell_type": "code",
   "execution_count": 52,
   "id": "421f6ec5",
   "metadata": {},
   "outputs": [],
   "source": [
    "# https://www.kaggle.com/code/hervind/h-m-faster-trending-products-weekly/notebook をベースに\n",
    "# コールドスタートを日数色々試す\n",
    "# 28日分: 0.007237\n",
    "# 21日分: 0.007366\n",
    "# 14日分: 0.008013（これを保存）\n",
    "# 7日分: 0.007878（最終週だけ使うので、trendingの効果はない）\n",
    "EXP = '007'\n",
    "FOLD = '_fold1'"
   ]
  },
  {
   "cell_type": "code",
   "execution_count": 53,
   "id": "612f8125",
   "metadata": {
    "_cell_guid": "b1076dfc-b9ad-4769-8c92-a6c4dae69d19",
    "_uuid": "8f2839f25d086af736a60e9eeb907d3b93b6e0e5",
    "execution": {
     "iopub.execute_input": "2022-02-27T16:52:34.537429Z",
     "iopub.status.busy": "2022-02-27T16:52:34.536335Z",
     "iopub.status.idle": "2022-02-27T16:52:34.544954Z",
     "shell.execute_reply": "2022-02-27T16:52:34.544349Z",
     "shell.execute_reply.started": "2022-02-19T20:37:22.500164Z"
    },
    "papermill": {
     "duration": 0.025355,
     "end_time": "2022-02-27T16:52:34.545123",
     "exception": false,
     "start_time": "2022-02-27T16:52:34.519768",
     "status": "completed"
    },
    "tags": []
   },
   "outputs": [],
   "source": [
    "import numpy as np\n",
    "import pandas as pd\n",
    "\n",
    "from math import sqrt\n",
    "from pathlib import Path\n",
    "from tqdm import tqdm\n",
    "tqdm.pandas()"
   ]
  },
  {
   "cell_type": "code",
   "execution_count": 54,
   "id": "895fe16f",
   "metadata": {
    "execution": {
     "iopub.execute_input": "2022-02-27T16:52:34.573521Z",
     "iopub.status.busy": "2022-02-27T16:52:34.572949Z",
     "iopub.status.idle": "2022-02-27T16:52:34.576266Z",
     "shell.execute_reply": "2022-02-27T16:52:34.576704Z",
     "shell.execute_reply.started": "2022-02-19T20:37:22.507291Z"
    },
    "papermill": {
     "duration": 0.018539,
     "end_time": "2022-02-27T16:52:34.576858",
     "exception": false,
     "start_time": "2022-02-27T16:52:34.558319",
     "status": "completed"
    },
    "tags": []
   },
   "outputs": [],
   "source": [
    "data_path = Path('../input/h-and-m-personalized-fashion-recommendations/')\n",
    "N = 12"
   ]
  },
  {
   "cell_type": "markdown",
   "id": "35af3a84",
   "metadata": {
    "papermill": {
     "duration": 0.012355,
     "end_time": "2022-02-27T16:52:34.601840",
     "exception": false,
     "start_time": "2022-02-27T16:52:34.589485",
     "status": "completed"
    },
    "tags": []
   },
   "source": [
    "### Read the transactions data"
   ]
  },
  {
   "cell_type": "code",
   "execution_count": 55,
   "id": "e2c7cff2",
   "metadata": {
    "execution": {
     "iopub.execute_input": "2022-02-27T16:52:34.630766Z",
     "iopub.status.busy": "2022-02-27T16:52:34.630169Z",
     "iopub.status.idle": "2022-02-27T16:53:42.585381Z",
     "shell.execute_reply": "2022-02-27T16:53:42.584418Z",
     "shell.execute_reply.started": "2022-02-19T20:37:22.517708Z"
    },
    "papermill": {
     "duration": 67.971288,
     "end_time": "2022-02-27T16:53:42.585738",
     "exception": false,
     "start_time": "2022-02-27T16:52:34.614450",
     "status": "completed"
    },
    "tags": []
   },
   "outputs": [],
   "source": [
    "df = pd.read_csv(data_path / f'transactions_train{FOLD}.csv',\n",
    "                 usecols = ['t_dat', 'customer_id', 'article_id'],\n",
    "                 dtype={'article_id': 'int32'})\n",
    "df['customer_id'] = df['customer_id'].apply(lambda x: int(x[-16:],16) ).astype('int64')\n",
    "df['t_dat'] = pd.to_datetime(df['t_dat'])\n",
    "last_ts = df['t_dat'].max()"
   ]
  },
  {
   "cell_type": "markdown",
   "id": "177a84eb",
   "metadata": {
    "papermill": {
     "duration": 0.011972,
     "end_time": "2022-02-27T16:53:42.614042",
     "exception": false,
     "start_time": "2022-02-27T16:53:42.602070",
     "status": "completed"
    },
    "tags": []
   },
   "source": [
    "### Add the last day of billing week"
   ]
  },
  {
   "cell_type": "code",
   "execution_count": 56,
   "id": "c9f81fac",
   "metadata": {},
   "outputs": [],
   "source": [
    "tmp = df[['t_dat']].copy()\n",
    "tmp['dow'] = tmp['t_dat'].dt.dayofweek\n",
    "tmp['ldbw'] = tmp['t_dat'] - pd.TimedeltaIndex(tmp['dow'] - 1, unit='D')\n",
    "tmp.loc[tmp['dow'] >=2 , 'ldbw'] = tmp.loc[tmp['dow'] >=2 , 'ldbw'] + pd.TimedeltaIndex(np.ones(len(tmp.loc[tmp['dow'] >=2])) * 7, unit='D')\n",
    "\n",
    "df['ldbw'] = tmp['ldbw'].values"
   ]
  },
  {
   "cell_type": "markdown",
   "id": "633d8dea",
   "metadata": {
    "papermill": {
     "duration": 9.437087,
     "end_time": "2022-02-27T17:49:54.025684",
     "exception": false,
     "start_time": "2022-02-27T17:49:44.588597",
     "status": "completed"
    },
    "tags": []
   },
   "source": [
    "### Count the number of transactions per week "
   ]
  },
  {
   "cell_type": "code",
   "execution_count": 57,
   "id": "93151dd2",
   "metadata": {
    "execution": {
     "iopub.execute_input": "2022-02-27T17:50:11.435423Z",
     "iopub.status.busy": "2022-02-27T17:50:11.434797Z",
     "iopub.status.idle": "2022-02-27T17:50:22.750144Z",
     "shell.execute_reply": "2022-02-27T17:50:22.749382Z",
     "shell.execute_reply.started": "2022-02-19T20:38:18.869228Z"
    },
    "papermill": {
     "duration": 19.995747,
     "end_time": "2022-02-27T17:50:22.750354",
     "exception": false,
     "start_time": "2022-02-27T17:50:02.754607",
     "status": "completed"
    },
    "tags": []
   },
   "outputs": [],
   "source": [
    "weekly_sales = df.drop('customer_id', axis=1).groupby(['ldbw', 'article_id']).count().reset_index()\n",
    "weekly_sales = weekly_sales.rename(columns={'t_dat': 'count'})"
   ]
  },
  {
   "cell_type": "code",
   "execution_count": 58,
   "id": "9dfa4630",
   "metadata": {
    "execution": {
     "iopub.execute_input": "2022-02-27T17:50:40.259430Z",
     "iopub.status.busy": "2022-02-27T17:50:40.256541Z",
     "iopub.status.idle": "2022-02-27T17:50:53.809271Z",
     "shell.execute_reply": "2022-02-27T17:50:53.808634Z",
     "shell.execute_reply.started": "2022-02-19T20:38:18.913674Z"
    },
    "papermill": {
     "duration": 22.222165,
     "end_time": "2022-02-27T17:50:53.809416",
     "exception": false,
     "start_time": "2022-02-27T17:50:31.587251",
     "status": "completed"
    },
    "tags": []
   },
   "outputs": [],
   "source": [
    "df = df.merge(weekly_sales, on=['ldbw', 'article_id'], how = 'left')"
   ]
  },
  {
   "cell_type": "markdown",
   "id": "61d4979b",
   "metadata": {
    "papermill": {
     "duration": 8.72478,
     "end_time": "2022-02-27T17:51:11.207629",
     "exception": false,
     "start_time": "2022-02-27T17:51:02.482849",
     "status": "completed"
    },
    "tags": []
   },
   "source": [
    "### Let's assume that in the target week sales will be similar to the last week of the training data"
   ]
  },
  {
   "cell_type": "code",
   "execution_count": 59,
   "id": "293e56ef",
   "metadata": {
    "execution": {
     "iopub.execute_input": "2022-02-27T17:51:28.573404Z",
     "iopub.status.busy": "2022-02-27T17:51:28.572776Z",
     "iopub.status.idle": "2022-02-27T17:51:39.632858Z",
     "shell.execute_reply": "2022-02-27T17:51:39.632269Z",
     "shell.execute_reply.started": "2022-02-19T20:38:18.944131Z"
    },
    "papermill": {
     "duration": 19.689446,
     "end_time": "2022-02-27T17:51:39.633012",
     "exception": false,
     "start_time": "2022-02-27T17:51:19.943566",
     "status": "completed"
    },
    "tags": []
   },
   "outputs": [],
   "source": [
    "weekly_sales = weekly_sales.reset_index().set_index('article_id')\n",
    "\n",
    "df = df.join(\n",
    "    weekly_sales.loc[weekly_sales['ldbw']==last_ts, ['count']],\n",
    "    on='article_id', rsuffix=\"_targ\")\n",
    "\n",
    "df['count_targ'].fillna(0, inplace=True)\n",
    "del weekly_sales"
   ]
  },
  {
   "cell_type": "markdown",
   "id": "5f227329",
   "metadata": {
    "papermill": {
     "duration": 8.634136,
     "end_time": "2022-02-27T17:51:57.031827",
     "exception": false,
     "start_time": "2022-02-27T17:51:48.397691",
     "status": "completed"
    },
    "tags": []
   },
   "source": [
    "### Calculate sales rate adjusted for changes in product popularity "
   ]
  },
  {
   "cell_type": "code",
   "execution_count": 60,
   "id": "7a293fad",
   "metadata": {
    "execution": {
     "iopub.execute_input": "2022-02-27T17:52:14.360221Z",
     "iopub.status.busy": "2022-02-27T17:52:14.359266Z",
     "iopub.status.idle": "2022-02-27T17:52:14.459325Z",
     "shell.execute_reply": "2022-02-27T17:52:14.458795Z",
     "shell.execute_reply.started": "2022-02-19T20:38:18.978276Z"
    },
    "papermill": {
     "duration": 8.776101,
     "end_time": "2022-02-27T17:52:14.459467",
     "exception": false,
     "start_time": "2022-02-27T17:52:05.683366",
     "status": "completed"
    },
    "tags": []
   },
   "outputs": [],
   "source": [
    "df['quotient'] = df['count_targ'] / df['count']"
   ]
  },
  {
   "cell_type": "markdown",
   "id": "4fc428d4",
   "metadata": {
    "papermill": {
     "duration": 8.704205,
     "end_time": "2022-02-27T17:52:31.841326",
     "exception": false,
     "start_time": "2022-02-27T17:52:23.137121",
     "status": "completed"
    },
    "tags": []
   },
   "source": [
    "### Take supposedly popular products"
   ]
  },
  {
   "cell_type": "code",
   "execution_count": 61,
   "id": "87f8522e",
   "metadata": {
    "execution": {
     "iopub.execute_input": "2022-02-27T17:52:49.463562Z",
     "iopub.status.busy": "2022-02-27T17:52:49.462902Z",
     "iopub.status.idle": "2022-02-27T17:52:57.096568Z",
     "shell.execute_reply": "2022-02-27T17:52:57.095997Z",
     "shell.execute_reply.started": "2022-02-19T20:38:18.983956Z"
    },
    "papermill": {
     "duration": 16.583378,
     "end_time": "2022-02-27T17:52:57.096717",
     "exception": false,
     "start_time": "2022-02-27T17:52:40.513339",
     "status": "completed"
    },
    "tags": []
   },
   "outputs": [
    {
     "data": {
      "text/plain": [
       "['0909370001',\n",
       " '0865799006',\n",
       " '0918522001',\n",
       " '0924243001',\n",
       " '0448509014',\n",
       " '0751471001',\n",
       " '0809238001',\n",
       " '0918292001',\n",
       " '0762846027',\n",
       " '0673677002',\n",
       " '0923758001',\n",
       " '0706016001']"
      ]
     },
     "execution_count": 61,
     "metadata": {},
     "output_type": "execute_result"
    }
   ],
   "source": [
    "df['diff_dat'] = (last_ts - df['t_dat']).map(lambda delta: delta.days)\n",
    "target_sales = df.query('diff_dat < 14').drop('customer_id', axis=1).groupby('article_id')['quotient'].sum()\n",
    "general_pred = target_sales.nlargest(N).index.tolist()\n",
    "general_pred = ['0' + str(article_id) for article_id in general_pred]\n",
    "general_pred_str =  ' '.join(general_pred)\n",
    "del target_sales\n",
    "general_pred_str"
   ]
  },
  {
   "cell_type": "markdown",
   "id": "7982dfc8",
   "metadata": {
    "papermill": {
     "duration": 8.683895,
     "end_time": "2022-02-27T17:53:14.502126",
     "exception": false,
     "start_time": "2022-02-27T17:53:05.818231",
     "status": "completed"
    },
    "tags": []
   },
   "source": [
    "### Fill in purchase dictionary"
   ]
  },
  {
   "cell_type": "code",
   "execution_count": 62,
   "id": "b9402c90",
   "metadata": {},
   "outputs": [],
   "source": [
    "purchase_dict = {}\n",
    "\n",
    "tmp = df.copy()\n",
    "tmp['x'] = ((last_ts - tmp['t_dat']) / np.timedelta64(1, 'D')).astype(int)\n",
    "tmp['dummy_1'] = 1 \n",
    "tmp['x'] = tmp[[\"x\", \"dummy_1\"]].max(axis=1)\n",
    "\n",
    "a, b, c, d = 2.5e4, 1.5e5, 2e-1, 1e3\n",
    "tmp['y'] = a / np.sqrt(tmp['x']) + b * np.exp(-c*tmp['x']) - d\n",
    "\n",
    "tmp['dummy_0'] = 0 \n",
    "tmp['y'] = tmp[[\"y\", \"dummy_0\"]].max(axis=1)\n",
    "tmp['value'] = tmp['quotient'] * tmp['y'] \n",
    "\n",
    "tmp = tmp.groupby(['customer_id', 'article_id']).agg({'value': 'sum'})\n",
    "tmp = tmp.reset_index()\n",
    "\n",
    "tmp = tmp.loc[tmp['value'] > 0]\n",
    "tmp['rank'] = tmp.groupby(\"customer_id\")[\"value\"].rank(\"dense\", ascending=False)\n",
    "tmp = tmp.loc[tmp['rank'] <= 12]\n",
    "\n",
    "# for customer_id in tmp['customer_id'].unique():\n",
    "#     purchase_dict[customer_id] = {} \n",
    "\n",
    "# for customer_id, article_id, value in zip(tmp['customer_id'], tmp['article_id'], tmp['value']):\n",
    "#     purchase_dict[customer_id][article_id] = value\n",
    "\n",
    "purchase_df = tmp.sort_values(['customer_id', 'value'], ascending = False).reset_index(drop = True)\n",
    "purchase_df['prediction'] = '0' + purchase_df['article_id'].astype(str) + ' '\n",
    "purchase_df = purchase_df.groupby('customer_id').agg({'prediction': sum}).reset_index()\n",
    "purchase_df['prediction'] = purchase_df['prediction'].str.strip()\n",
    "# purchase_df = cudf.DataFrame(purchase_df)"
   ]
  },
  {
   "cell_type": "markdown",
   "id": "d518057d",
   "metadata": {
    "papermill": {
     "duration": 15.005939,
     "end_time": "2022-02-27T18:33:11.412714",
     "exception": false,
     "start_time": "2022-02-27T18:32:56.406775",
     "status": "completed"
    },
    "tags": []
   },
   "source": [
    "### Make a submission"
   ]
  },
  {
   "cell_type": "code",
   "execution_count": null,
   "id": "d0c92a48",
   "metadata": {},
   "outputs": [],
   "source": [
    "sub  = pd.read_csv('../input/h-and-m-personalized-fashion-recommendations/sample_submission.csv',\n",
    "                            usecols= ['customer_id'], \n",
    "                            dtype={'customer_id': 'string'})\n",
    "\n",
    "sub['customer_id2'] = sub['customer_id'].apply(lambda x: int(x[-16:],16) ).astype('int64')\n",
    "\n",
    "sub = sub.merge(purchase_df, left_on = 'customer_id2', right_on = 'customer_id', how = 'left',\n",
    "               suffixes = ('', '_ignored'))\n",
    "\n",
    "sub['prediction'] = sub['prediction'].fillna(general_pred_str)\n",
    "sub['prediction'] = sub['prediction'] + ' ' +  general_pred_str\n",
    "sub['prediction'] = sub['prediction'].str.strip()\n",
    "sub['prediction'] = sub['prediction'].str[:131]\n",
    "sub = sub[['customer_id', 'prediction']]\n",
    "sub.to_csv(f'../submissions/{EXP}_submission{FOLD}.csv',index=False)"
   ]
  }
 ],
 "metadata": {
  "kernelspec": {
   "display_name": "Python 3",
   "language": "python",
   "name": "python3"
  },
  "language_info": {
   "codemirror_mode": {
    "name": "ipython",
    "version": 3
   },
   "file_extension": ".py",
   "mimetype": "text/x-python",
   "name": "python",
   "nbconvert_exporter": "python",
   "pygments_lexer": "ipython3",
   "version": "3.8.12"
  },
  "papermill": {
   "default_parameters": {},
   "duration": 7056.347974,
   "end_time": "2022-02-27T18:50:02.371855",
   "environment_variables": {},
   "exception": null,
   "input_path": "__notebook__.ipynb",
   "output_path": "__notebook__.ipynb",
   "parameters": {},
   "start_time": "2022-02-27T16:52:26.023881",
   "version": "2.3.3"
  }
 },
 "nbformat": 4,
 "nbformat_minor": 5
}
